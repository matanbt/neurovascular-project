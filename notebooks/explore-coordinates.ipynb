{
 "cells": [
  {
   "cell_type": "code",
   "execution_count": 1,
   "id": "5f07f499",
   "metadata": {},
   "outputs": [],
   "source": [
    "import numpy as np\n",
    "import pandas as pd"
   ]
  },
  {
   "cell_type": "code",
   "execution_count": 4,
   "id": "fa119ae7",
   "metadata": {},
   "outputs": [],
   "source": [
    "# Paths\n",
    "path_dataset_1 = \"../data/2021_02_01_neurovascular_datasets/\"\n",
    "path_dataset_1_neuro_coordinates = f\"{path_dataset_1}/coordinates/neuronal_coordinates.csv\"\n",
    "path_dataset_1_vascu_coordinates = f\"{path_dataset_1}/coordinates/vascular_coordinates.csv\"\n",
    "\n",
    "# TODO load and explore coordinates data"
   ]
  },
  {
   "cell_type": "code",
   "execution_count": 6,
   "id": "202eb759",
   "metadata": {},
   "outputs": [
    {
     "data": {
      "text/plain": "    Index            Name       Type Group  X [pixels]  Y [pixels]  \\\n0       0  0103-0153-0471  Rectangle  none         454         140   \n1       1  0113-0076-0410  Rectangle  none         391          64   \n2       2  0086-0025-0095  Rectangle  none          81          15   \n3       3  0086-0495-0009  Rectangle  none           0         481   \n4       4  0076-0392-0194  Rectangle  none         183         380   \n5       5  0070-0425-0235  Rectangle  none         223         413   \n6       6  0086-0328-0223  Rectangle  none         212         318   \n7       7  0069-0300-0207  Rectangle  none         200         293   \n8       8  0068-0392-0120  Rectangle  none         112         383   \n9       9  0053-0368-0200  Rectangle  none         189         357   \n10     10  0128-0342-0246  Rectangle  none         237         333   \n11     11  0128-0393-0397  Rectangle  none         386         384   \n12     12  0054-0178-0467  Rectangle  none         459         172   \n13     13  0058-0057-0163  Rectangle  none         150          47   \n14     14  0128-0361-0031  Rectangle  none          22         353   \n15     15  0128-0356-0009  Rectangle  none           0         345   \n16     16  0121-0004-0093  Rectangle  none          80           0   \n17     17  0121-0009-0141  Rectangle  none         123           0   \n18     18  0008-0010-0141  Rectangle  none         123           0   \n19     19  0115-0279-0406  Rectangle  none         388         266   \n20     20  0102-0435-0473  Rectangle  none         453         420   \n21     21  0064-0257-0307  Rectangle  none         293         243   \n22     22  0060-0234-0281  Rectangle  none         264         221   \n23     23  0052-0492-0384  Rectangle  none         365         476   \n24     24  0052-0372-0273  Rectangle  none         259         360   \n25     25  0069-0060-0202  Rectangle  none         185          44   \n26     26  0047-0127-0121  Rectangle  none         105         112   \n27     27  0047-0213-0281  Rectangle  none         269         200   \n28     28  0072-0036-0425  Rectangle  none         413          26   \n29     29  0038-0409-0289  Rectangle  none         277         397   \n30     30  0039-0476-0269  Rectangle  none         259         466   \n31     31  0059-0420-0377  Rectangle  none         370         411   \n32     32  0088-0105-0490  Rectangle  none         475          96   \n33     33  0098-0169-0135  Rectangle  none         122         159   \n34     34  0063-0387-0103  Rectangle  none          91         375   \n35     35  0073-0030-0141  Rectangle  none         130          19   \n36     36  0049-0365-0112  Rectangle  none         105         356   \n37     37  0123-0006-0092  Rectangle  none          77           0   \n38     38  0005-0076-0180  Rectangle  none         171          67   \n39     39  0001-0077-0418  Rectangle  none         406          61   \n40     40  0038-0059-0279  Rectangle  none         268          50   \n41     41  0005-0335-0372  Rectangle  none         360         322   \n42     42  0054-0379-0418  Rectangle  none         407         369   \n43     43  0066-0023-0279  Rectangle  none         271          15   \n44     44  0079-0246-0007  Rectangle  none           0         233   \n45     45  0086-0242-0303  Rectangle  none         293         232   \n46     46  0128-0011-0281  Rectangle  none         273           2   \n47     47  0073-0028-0304  Rectangle  none         295          22   \n48     48  0050-0113-0081  Rectangle  none          68         100   \n49     49  0056-0130-0153  Rectangle  none         141         119   \n\n    Width [pixels]  Height [pixels]  Z [pixels]  Unnamed: 9  ...  \\\n0               35               26         103         NaN  ...   \n1               38               25         113         NaN  ...   \n2               28               21          86         NaN  ...   \n3               18               28          86         NaN  ...   \n4               23               24          76         NaN  ...   \n5               24               24          70         NaN  ...   \n6               23               21          86         NaN  ...   \n7               14               15          69         NaN  ...   \n8               16               18          68         NaN  ...   \n9               23               22          53         NaN  ...   \n10              18               18         128         NaN  ...   \n11              23               18         128         NaN  ...   \n12              16               13          54         NaN  ...   \n13              27               21          58         NaN  ...   \n14              19               17         128         NaN  ...   \n15              18               22         128         NaN  ...   \n16              27                8         121         NaN  ...   \n17              37               18         121         NaN  ...   \n18              36               21           8         NaN  ...   \n19              37               26         115         NaN  ...   \n20              40               30         102         NaN  ...   \n21              28               28          64         NaN  ...   \n22              34               26          60         NaN  ...   \n23              39               33          52         NaN  ...   \n24              28               24          52         NaN  ...   \n25              35               30          71         NaN  ...   \n26              32               30          47         NaN  ...   \n27              24               27          47         NaN  ...   \n28              25               20          72         NaN  ...   \n29              24               24          38         NaN  ...   \n30              20               21          39         NaN  ...   \n31              15               18          59         NaN  ...   \n32              30               18          88         NaN  ...   \n33              26               21          98         NaN  ...   \n34              24               25          63         NaN  ...   \n35              22               22          73         NaN  ...   \n36              14               19          49         NaN  ...   \n37              30               13         123         NaN  ...   \n38              19               19           5         NaN  ...   \n39              24               33           1         NaN  ...   \n40              23               18          38         NaN  ...   \n41              25               26           5         NaN  ...   \n42              22               21          54         NaN  ...   \n43              16               16          66         NaN  ...   \n44              15               26          79         NaN  ...   \n45              21               21          86         NaN  ...   \n46              16               18         128         NaN  ...   \n47              18               13          73         NaN  ...   \n48              26               27          50         NaN  ...   \n49              24               23          56         NaN  ...   \n\n    Y+height [pixels]  Unnamed: 12     X1 [μm]     X2 [μm]     Y1 [μm]  \\\n0                 166          NaN  434.492188  467.988281  136.718750   \n1                  89          NaN  374.199219  410.566406   62.500000   \n2                  36          NaN   77.519531  104.316406   14.648438   \n3                 509          NaN    0.000000   17.226562  469.726562   \n4                 404          NaN  175.136719  197.148438  371.093750   \n5                 437          NaN  213.417969  236.386719  403.320312   \n6                 339          NaN  202.890625  224.902344  310.546875   \n7                 308          NaN  191.406250  204.804688  286.132812   \n8                 401          NaN  107.187500  122.500000  374.023438   \n9                 379          NaN  180.878906  202.890625  348.632812   \n10                351          NaN  226.816406  244.042969  325.195312   \n11                402          NaN  369.414062  391.425781  375.000000   \n12                185          NaN  439.277344  454.589844  167.968750   \n13                 68          NaN  143.554688  169.394531   45.898438   \n14                370          NaN   21.054688   39.238281  344.726562   \n15                367          NaN    0.000000   17.226562  336.914062   \n16                  8          NaN   76.562500  102.402344    0.000000   \n17                 18          NaN  117.714844  153.125000    0.000000   \n18                 21          NaN  117.714844  152.167969    0.000000   \n19                292          NaN  371.328125  406.738281  259.765625   \n20                450          NaN  433.535156  471.816406  410.156250   \n21                271          NaN  280.410156  307.207031  237.304688   \n22                247          NaN  252.656250  285.195312  215.820312   \n23                509          NaN  349.316406  386.640625  464.843750   \n24                384          NaN  247.871094  274.667969  351.562500   \n25                 74          NaN  177.050781  210.546875   42.968750   \n26                142          NaN  100.488281  131.113281  109.375000   \n27                227          NaN  257.441406  280.410156  195.312500   \n28                 46          NaN  395.253906  419.179688   25.390625   \n29                421          NaN  265.097656  288.066406  387.695312   \n30                487          NaN  247.871094  267.011719  455.078125   \n31                429          NaN  354.101562  368.457031  401.367188   \n32                114          NaN  454.589844  483.300781   93.750000   \n33                180          NaN  116.757812  141.640625  155.273438   \n34                400          NaN   87.089844  110.058594  366.210938   \n35                 41          NaN  124.414062  145.468750   18.554688   \n36                375          NaN  100.488281  113.886719  347.656250   \n37                 13          NaN   73.691406  102.402344    0.000000   \n38                 86          NaN  163.652344  181.835938   65.429688   \n39                 94          NaN  388.554688  411.523438   59.570312   \n40                 68          NaN  256.484375  278.496094   48.828125   \n41                348          NaN  344.531250  368.457031  314.453125   \n42                390          NaN  389.511719  410.566406  360.351562   \n43                 31          NaN  259.355469  274.667969   14.648438   \n44                259          NaN    0.000000   14.355469  227.539062   \n45                253          NaN  280.410156  300.507812  226.562500   \n46                 20          NaN  261.269531  276.582031    1.953125   \n47                 35          NaN  282.324219  299.550781   21.484375   \n48                127          NaN   65.078125   89.960938   97.656250   \n49                142          NaN  134.941406  157.910156  116.210938   \n\n       Y2 [μm]      Z [μm]    scaled_x    scaled_y    scaled_z  \n0   162.109375  243.820312  403.388672   91.308594  243.820312  \n1    86.914062  267.492188  338.310547   56.640625  267.492188  \n2    35.156250  203.578125  272.753906   32.714844  203.578125  \n3   497.070312  203.578125  201.933594  256.835938  203.578125  \n4   394.531250  179.906250  300.507813  213.378906  179.906250  \n5   426.757812  165.703125  206.718750  229.980469  165.703125  \n6   331.054688  203.578125  221.552734  183.105469  203.578125  \n7   300.781250  163.335938  207.675781  176.269531  163.335938  \n8   391.601562  160.968750  297.636719  226.074219  160.968750  \n9   370.117188  125.460938  304.814453  234.863281  125.460938  \n10  342.773438  303.000000  268.925781  237.304688  303.000000  \n11  392.578125  303.000000  367.021484  278.808594  303.000000  \n12  180.664062  127.828125  366.542969  175.292969  127.828125  \n13   66.406250  137.296875  276.582031  109.375000  137.296875  \n14  361.328125  303.000000   95.224609  254.394531  303.000000  \n15  358.398438  303.000000  191.884766  252.929688  303.000000  \n16    7.812500  286.429688  267.011719   92.773438  286.429688  \n17   17.578125  286.429688  140.683594   92.773438  286.429688  \n18   20.507812   18.937500  203.369141   96.679688   18.937500  \n19  285.156250  272.226562  321.562500  228.515625  272.226562  \n20  439.453125  241.453125  379.462891  306.152344  241.453125  \n21  264.648438  151.500000  260.791016  228.027344  151.500000  \n22  241.210938  142.031250  222.031250  219.238281  142.031250  \n23  497.070312  123.093750  283.281250  342.773438  123.093750  \n24  375.000000  123.093750  274.189453  285.156250  123.093750  \n25   72.265625  168.070312  217.246094  134.277344  168.070312  \n26  138.671875  111.257812  173.222656  169.921875  111.257812  \n27  221.679688  111.257812  279.453125  219.238281  111.257812  \n28   44.921875  170.437500  281.367188  135.742188  170.437500  \n29  411.132812   89.953125  216.289063  322.753906   89.953125  \n30  475.585938   92.320312  243.564453  369.140625   92.320312  \n31  418.945312  139.664062  311.992188  333.496094  139.664062  \n32  111.328125  208.312500  285.195313  182.617188  208.312500  \n33  175.781250  231.984375  238.300781  221.191406  231.984375  \n34  390.625000  149.132812  127.763672  327.636719  149.132812  \n35   40.039062  172.804688  198.105469  164.550781  172.804688  \n36  366.210938  115.992188  103.837891  338.378906  115.992188  \n37   12.695312  291.164062  121.064453  165.527344  291.164062  \n38   83.984375   11.835938  287.587891  215.332031   11.835938  \n39   91.796875    2.367188  419.658203  212.890625    2.367188  \n40   66.406250   89.953125  270.839844  220.214844   89.953125  \n41  339.843750   11.835938  341.181641  373.046875   11.835938  \n42  380.859375  127.828125  416.787109  386.718750  127.828125  \n43   30.273438  156.234375  351.708984  224.609375  156.234375  \n44  252.929688  187.007812  179.443359  350.097656  187.007812  \n45  247.070312  203.578125  301.464844  351.562500  203.578125  \n46   19.531250  303.000000  296.201172  248.046875  303.000000  \n47   34.179688  172.804688  286.152344  260.742188  172.804688  \n48  124.023438  118.359375  160.781250  294.921875  118.359375  \n49  138.671875  132.562500  239.257813  308.105469  132.562500  \n\n[50 rows x 21 columns]",
      "text/html": "<div>\n<style scoped>\n    .dataframe tbody tr th:only-of-type {\n        vertical-align: middle;\n    }\n\n    .dataframe tbody tr th {\n        vertical-align: top;\n    }\n\n    .dataframe thead th {\n        text-align: right;\n    }\n</style>\n<table border=\"1\" class=\"dataframe\">\n  <thead>\n    <tr style=\"text-align: right;\">\n      <th></th>\n      <th>Index</th>\n      <th>Name</th>\n      <th>Type</th>\n      <th>Group</th>\n      <th>X [pixels]</th>\n      <th>Y [pixels]</th>\n      <th>Width [pixels]</th>\n      <th>Height [pixels]</th>\n      <th>Z [pixels]</th>\n      <th>Unnamed: 9</th>\n      <th>...</th>\n      <th>Y+height [pixels]</th>\n      <th>Unnamed: 12</th>\n      <th>X1 [μm]</th>\n      <th>X2 [μm]</th>\n      <th>Y1 [μm]</th>\n      <th>Y2 [μm]</th>\n      <th>Z [μm]</th>\n      <th>scaled_x</th>\n      <th>scaled_y</th>\n      <th>scaled_z</th>\n    </tr>\n  </thead>\n  <tbody>\n    <tr>\n      <th>0</th>\n      <td>0</td>\n      <td>0103-0153-0471</td>\n      <td>Rectangle</td>\n      <td>none</td>\n      <td>454</td>\n      <td>140</td>\n      <td>35</td>\n      <td>26</td>\n      <td>103</td>\n      <td>NaN</td>\n      <td>...</td>\n      <td>166</td>\n      <td>NaN</td>\n      <td>434.492188</td>\n      <td>467.988281</td>\n      <td>136.718750</td>\n      <td>162.109375</td>\n      <td>243.820312</td>\n      <td>403.388672</td>\n      <td>91.308594</td>\n      <td>243.820312</td>\n    </tr>\n    <tr>\n      <th>1</th>\n      <td>1</td>\n      <td>0113-0076-0410</td>\n      <td>Rectangle</td>\n      <td>none</td>\n      <td>391</td>\n      <td>64</td>\n      <td>38</td>\n      <td>25</td>\n      <td>113</td>\n      <td>NaN</td>\n      <td>...</td>\n      <td>89</td>\n      <td>NaN</td>\n      <td>374.199219</td>\n      <td>410.566406</td>\n      <td>62.500000</td>\n      <td>86.914062</td>\n      <td>267.492188</td>\n      <td>338.310547</td>\n      <td>56.640625</td>\n      <td>267.492188</td>\n    </tr>\n    <tr>\n      <th>2</th>\n      <td>2</td>\n      <td>0086-0025-0095</td>\n      <td>Rectangle</td>\n      <td>none</td>\n      <td>81</td>\n      <td>15</td>\n      <td>28</td>\n      <td>21</td>\n      <td>86</td>\n      <td>NaN</td>\n      <td>...</td>\n      <td>36</td>\n      <td>NaN</td>\n      <td>77.519531</td>\n      <td>104.316406</td>\n      <td>14.648438</td>\n      <td>35.156250</td>\n      <td>203.578125</td>\n      <td>272.753906</td>\n      <td>32.714844</td>\n      <td>203.578125</td>\n    </tr>\n    <tr>\n      <th>3</th>\n      <td>3</td>\n      <td>0086-0495-0009</td>\n      <td>Rectangle</td>\n      <td>none</td>\n      <td>0</td>\n      <td>481</td>\n      <td>18</td>\n      <td>28</td>\n      <td>86</td>\n      <td>NaN</td>\n      <td>...</td>\n      <td>509</td>\n      <td>NaN</td>\n      <td>0.000000</td>\n      <td>17.226562</td>\n      <td>469.726562</td>\n      <td>497.070312</td>\n      <td>203.578125</td>\n      <td>201.933594</td>\n      <td>256.835938</td>\n      <td>203.578125</td>\n    </tr>\n    <tr>\n      <th>4</th>\n      <td>4</td>\n      <td>0076-0392-0194</td>\n      <td>Rectangle</td>\n      <td>none</td>\n      <td>183</td>\n      <td>380</td>\n      <td>23</td>\n      <td>24</td>\n      <td>76</td>\n      <td>NaN</td>\n      <td>...</td>\n      <td>404</td>\n      <td>NaN</td>\n      <td>175.136719</td>\n      <td>197.148438</td>\n      <td>371.093750</td>\n      <td>394.531250</td>\n      <td>179.906250</td>\n      <td>300.507813</td>\n      <td>213.378906</td>\n      <td>179.906250</td>\n    </tr>\n    <tr>\n      <th>5</th>\n      <td>5</td>\n      <td>0070-0425-0235</td>\n      <td>Rectangle</td>\n      <td>none</td>\n      <td>223</td>\n      <td>413</td>\n      <td>24</td>\n      <td>24</td>\n      <td>70</td>\n      <td>NaN</td>\n      <td>...</td>\n      <td>437</td>\n      <td>NaN</td>\n      <td>213.417969</td>\n      <td>236.386719</td>\n      <td>403.320312</td>\n      <td>426.757812</td>\n      <td>165.703125</td>\n      <td>206.718750</td>\n      <td>229.980469</td>\n      <td>165.703125</td>\n    </tr>\n    <tr>\n      <th>6</th>\n      <td>6</td>\n      <td>0086-0328-0223</td>\n      <td>Rectangle</td>\n      <td>none</td>\n      <td>212</td>\n      <td>318</td>\n      <td>23</td>\n      <td>21</td>\n      <td>86</td>\n      <td>NaN</td>\n      <td>...</td>\n      <td>339</td>\n      <td>NaN</td>\n      <td>202.890625</td>\n      <td>224.902344</td>\n      <td>310.546875</td>\n      <td>331.054688</td>\n      <td>203.578125</td>\n      <td>221.552734</td>\n      <td>183.105469</td>\n      <td>203.578125</td>\n    </tr>\n    <tr>\n      <th>7</th>\n      <td>7</td>\n      <td>0069-0300-0207</td>\n      <td>Rectangle</td>\n      <td>none</td>\n      <td>200</td>\n      <td>293</td>\n      <td>14</td>\n      <td>15</td>\n      <td>69</td>\n      <td>NaN</td>\n      <td>...</td>\n      <td>308</td>\n      <td>NaN</td>\n      <td>191.406250</td>\n      <td>204.804688</td>\n      <td>286.132812</td>\n      <td>300.781250</td>\n      <td>163.335938</td>\n      <td>207.675781</td>\n      <td>176.269531</td>\n      <td>163.335938</td>\n    </tr>\n    <tr>\n      <th>8</th>\n      <td>8</td>\n      <td>0068-0392-0120</td>\n      <td>Rectangle</td>\n      <td>none</td>\n      <td>112</td>\n      <td>383</td>\n      <td>16</td>\n      <td>18</td>\n      <td>68</td>\n      <td>NaN</td>\n      <td>...</td>\n      <td>401</td>\n      <td>NaN</td>\n      <td>107.187500</td>\n      <td>122.500000</td>\n      <td>374.023438</td>\n      <td>391.601562</td>\n      <td>160.968750</td>\n      <td>297.636719</td>\n      <td>226.074219</td>\n      <td>160.968750</td>\n    </tr>\n    <tr>\n      <th>9</th>\n      <td>9</td>\n      <td>0053-0368-0200</td>\n      <td>Rectangle</td>\n      <td>none</td>\n      <td>189</td>\n      <td>357</td>\n      <td>23</td>\n      <td>22</td>\n      <td>53</td>\n      <td>NaN</td>\n      <td>...</td>\n      <td>379</td>\n      <td>NaN</td>\n      <td>180.878906</td>\n      <td>202.890625</td>\n      <td>348.632812</td>\n      <td>370.117188</td>\n      <td>125.460938</td>\n      <td>304.814453</td>\n      <td>234.863281</td>\n      <td>125.460938</td>\n    </tr>\n    <tr>\n      <th>10</th>\n      <td>10</td>\n      <td>0128-0342-0246</td>\n      <td>Rectangle</td>\n      <td>none</td>\n      <td>237</td>\n      <td>333</td>\n      <td>18</td>\n      <td>18</td>\n      <td>128</td>\n      <td>NaN</td>\n      <td>...</td>\n      <td>351</td>\n      <td>NaN</td>\n      <td>226.816406</td>\n      <td>244.042969</td>\n      <td>325.195312</td>\n      <td>342.773438</td>\n      <td>303.000000</td>\n      <td>268.925781</td>\n      <td>237.304688</td>\n      <td>303.000000</td>\n    </tr>\n    <tr>\n      <th>11</th>\n      <td>11</td>\n      <td>0128-0393-0397</td>\n      <td>Rectangle</td>\n      <td>none</td>\n      <td>386</td>\n      <td>384</td>\n      <td>23</td>\n      <td>18</td>\n      <td>128</td>\n      <td>NaN</td>\n      <td>...</td>\n      <td>402</td>\n      <td>NaN</td>\n      <td>369.414062</td>\n      <td>391.425781</td>\n      <td>375.000000</td>\n      <td>392.578125</td>\n      <td>303.000000</td>\n      <td>367.021484</td>\n      <td>278.808594</td>\n      <td>303.000000</td>\n    </tr>\n    <tr>\n      <th>12</th>\n      <td>12</td>\n      <td>0054-0178-0467</td>\n      <td>Rectangle</td>\n      <td>none</td>\n      <td>459</td>\n      <td>172</td>\n      <td>16</td>\n      <td>13</td>\n      <td>54</td>\n      <td>NaN</td>\n      <td>...</td>\n      <td>185</td>\n      <td>NaN</td>\n      <td>439.277344</td>\n      <td>454.589844</td>\n      <td>167.968750</td>\n      <td>180.664062</td>\n      <td>127.828125</td>\n      <td>366.542969</td>\n      <td>175.292969</td>\n      <td>127.828125</td>\n    </tr>\n    <tr>\n      <th>13</th>\n      <td>13</td>\n      <td>0058-0057-0163</td>\n      <td>Rectangle</td>\n      <td>none</td>\n      <td>150</td>\n      <td>47</td>\n      <td>27</td>\n      <td>21</td>\n      <td>58</td>\n      <td>NaN</td>\n      <td>...</td>\n      <td>68</td>\n      <td>NaN</td>\n      <td>143.554688</td>\n      <td>169.394531</td>\n      <td>45.898438</td>\n      <td>66.406250</td>\n      <td>137.296875</td>\n      <td>276.582031</td>\n      <td>109.375000</td>\n      <td>137.296875</td>\n    </tr>\n    <tr>\n      <th>14</th>\n      <td>14</td>\n      <td>0128-0361-0031</td>\n      <td>Rectangle</td>\n      <td>none</td>\n      <td>22</td>\n      <td>353</td>\n      <td>19</td>\n      <td>17</td>\n      <td>128</td>\n      <td>NaN</td>\n      <td>...</td>\n      <td>370</td>\n      <td>NaN</td>\n      <td>21.054688</td>\n      <td>39.238281</td>\n      <td>344.726562</td>\n      <td>361.328125</td>\n      <td>303.000000</td>\n      <td>95.224609</td>\n      <td>254.394531</td>\n      <td>303.000000</td>\n    </tr>\n    <tr>\n      <th>15</th>\n      <td>15</td>\n      <td>0128-0356-0009</td>\n      <td>Rectangle</td>\n      <td>none</td>\n      <td>0</td>\n      <td>345</td>\n      <td>18</td>\n      <td>22</td>\n      <td>128</td>\n      <td>NaN</td>\n      <td>...</td>\n      <td>367</td>\n      <td>NaN</td>\n      <td>0.000000</td>\n      <td>17.226562</td>\n      <td>336.914062</td>\n      <td>358.398438</td>\n      <td>303.000000</td>\n      <td>191.884766</td>\n      <td>252.929688</td>\n      <td>303.000000</td>\n    </tr>\n    <tr>\n      <th>16</th>\n      <td>16</td>\n      <td>0121-0004-0093</td>\n      <td>Rectangle</td>\n      <td>none</td>\n      <td>80</td>\n      <td>0</td>\n      <td>27</td>\n      <td>8</td>\n      <td>121</td>\n      <td>NaN</td>\n      <td>...</td>\n      <td>8</td>\n      <td>NaN</td>\n      <td>76.562500</td>\n      <td>102.402344</td>\n      <td>0.000000</td>\n      <td>7.812500</td>\n      <td>286.429688</td>\n      <td>267.011719</td>\n      <td>92.773438</td>\n      <td>286.429688</td>\n    </tr>\n    <tr>\n      <th>17</th>\n      <td>17</td>\n      <td>0121-0009-0141</td>\n      <td>Rectangle</td>\n      <td>none</td>\n      <td>123</td>\n      <td>0</td>\n      <td>37</td>\n      <td>18</td>\n      <td>121</td>\n      <td>NaN</td>\n      <td>...</td>\n      <td>18</td>\n      <td>NaN</td>\n      <td>117.714844</td>\n      <td>153.125000</td>\n      <td>0.000000</td>\n      <td>17.578125</td>\n      <td>286.429688</td>\n      <td>140.683594</td>\n      <td>92.773438</td>\n      <td>286.429688</td>\n    </tr>\n    <tr>\n      <th>18</th>\n      <td>18</td>\n      <td>0008-0010-0141</td>\n      <td>Rectangle</td>\n      <td>none</td>\n      <td>123</td>\n      <td>0</td>\n      <td>36</td>\n      <td>21</td>\n      <td>8</td>\n      <td>NaN</td>\n      <td>...</td>\n      <td>21</td>\n      <td>NaN</td>\n      <td>117.714844</td>\n      <td>152.167969</td>\n      <td>0.000000</td>\n      <td>20.507812</td>\n      <td>18.937500</td>\n      <td>203.369141</td>\n      <td>96.679688</td>\n      <td>18.937500</td>\n    </tr>\n    <tr>\n      <th>19</th>\n      <td>19</td>\n      <td>0115-0279-0406</td>\n      <td>Rectangle</td>\n      <td>none</td>\n      <td>388</td>\n      <td>266</td>\n      <td>37</td>\n      <td>26</td>\n      <td>115</td>\n      <td>NaN</td>\n      <td>...</td>\n      <td>292</td>\n      <td>NaN</td>\n      <td>371.328125</td>\n      <td>406.738281</td>\n      <td>259.765625</td>\n      <td>285.156250</td>\n      <td>272.226562</td>\n      <td>321.562500</td>\n      <td>228.515625</td>\n      <td>272.226562</td>\n    </tr>\n    <tr>\n      <th>20</th>\n      <td>20</td>\n      <td>0102-0435-0473</td>\n      <td>Rectangle</td>\n      <td>none</td>\n      <td>453</td>\n      <td>420</td>\n      <td>40</td>\n      <td>30</td>\n      <td>102</td>\n      <td>NaN</td>\n      <td>...</td>\n      <td>450</td>\n      <td>NaN</td>\n      <td>433.535156</td>\n      <td>471.816406</td>\n      <td>410.156250</td>\n      <td>439.453125</td>\n      <td>241.453125</td>\n      <td>379.462891</td>\n      <td>306.152344</td>\n      <td>241.453125</td>\n    </tr>\n    <tr>\n      <th>21</th>\n      <td>21</td>\n      <td>0064-0257-0307</td>\n      <td>Rectangle</td>\n      <td>none</td>\n      <td>293</td>\n      <td>243</td>\n      <td>28</td>\n      <td>28</td>\n      <td>64</td>\n      <td>NaN</td>\n      <td>...</td>\n      <td>271</td>\n      <td>NaN</td>\n      <td>280.410156</td>\n      <td>307.207031</td>\n      <td>237.304688</td>\n      <td>264.648438</td>\n      <td>151.500000</td>\n      <td>260.791016</td>\n      <td>228.027344</td>\n      <td>151.500000</td>\n    </tr>\n    <tr>\n      <th>22</th>\n      <td>22</td>\n      <td>0060-0234-0281</td>\n      <td>Rectangle</td>\n      <td>none</td>\n      <td>264</td>\n      <td>221</td>\n      <td>34</td>\n      <td>26</td>\n      <td>60</td>\n      <td>NaN</td>\n      <td>...</td>\n      <td>247</td>\n      <td>NaN</td>\n      <td>252.656250</td>\n      <td>285.195312</td>\n      <td>215.820312</td>\n      <td>241.210938</td>\n      <td>142.031250</td>\n      <td>222.031250</td>\n      <td>219.238281</td>\n      <td>142.031250</td>\n    </tr>\n    <tr>\n      <th>23</th>\n      <td>23</td>\n      <td>0052-0492-0384</td>\n      <td>Rectangle</td>\n      <td>none</td>\n      <td>365</td>\n      <td>476</td>\n      <td>39</td>\n      <td>33</td>\n      <td>52</td>\n      <td>NaN</td>\n      <td>...</td>\n      <td>509</td>\n      <td>NaN</td>\n      <td>349.316406</td>\n      <td>386.640625</td>\n      <td>464.843750</td>\n      <td>497.070312</td>\n      <td>123.093750</td>\n      <td>283.281250</td>\n      <td>342.773438</td>\n      <td>123.093750</td>\n    </tr>\n    <tr>\n      <th>24</th>\n      <td>24</td>\n      <td>0052-0372-0273</td>\n      <td>Rectangle</td>\n      <td>none</td>\n      <td>259</td>\n      <td>360</td>\n      <td>28</td>\n      <td>24</td>\n      <td>52</td>\n      <td>NaN</td>\n      <td>...</td>\n      <td>384</td>\n      <td>NaN</td>\n      <td>247.871094</td>\n      <td>274.667969</td>\n      <td>351.562500</td>\n      <td>375.000000</td>\n      <td>123.093750</td>\n      <td>274.189453</td>\n      <td>285.156250</td>\n      <td>123.093750</td>\n    </tr>\n    <tr>\n      <th>25</th>\n      <td>25</td>\n      <td>0069-0060-0202</td>\n      <td>Rectangle</td>\n      <td>none</td>\n      <td>185</td>\n      <td>44</td>\n      <td>35</td>\n      <td>30</td>\n      <td>71</td>\n      <td>NaN</td>\n      <td>...</td>\n      <td>74</td>\n      <td>NaN</td>\n      <td>177.050781</td>\n      <td>210.546875</td>\n      <td>42.968750</td>\n      <td>72.265625</td>\n      <td>168.070312</td>\n      <td>217.246094</td>\n      <td>134.277344</td>\n      <td>168.070312</td>\n    </tr>\n    <tr>\n      <th>26</th>\n      <td>26</td>\n      <td>0047-0127-0121</td>\n      <td>Rectangle</td>\n      <td>none</td>\n      <td>105</td>\n      <td>112</td>\n      <td>32</td>\n      <td>30</td>\n      <td>47</td>\n      <td>NaN</td>\n      <td>...</td>\n      <td>142</td>\n      <td>NaN</td>\n      <td>100.488281</td>\n      <td>131.113281</td>\n      <td>109.375000</td>\n      <td>138.671875</td>\n      <td>111.257812</td>\n      <td>173.222656</td>\n      <td>169.921875</td>\n      <td>111.257812</td>\n    </tr>\n    <tr>\n      <th>27</th>\n      <td>27</td>\n      <td>0047-0213-0281</td>\n      <td>Rectangle</td>\n      <td>none</td>\n      <td>269</td>\n      <td>200</td>\n      <td>24</td>\n      <td>27</td>\n      <td>47</td>\n      <td>NaN</td>\n      <td>...</td>\n      <td>227</td>\n      <td>NaN</td>\n      <td>257.441406</td>\n      <td>280.410156</td>\n      <td>195.312500</td>\n      <td>221.679688</td>\n      <td>111.257812</td>\n      <td>279.453125</td>\n      <td>219.238281</td>\n      <td>111.257812</td>\n    </tr>\n    <tr>\n      <th>28</th>\n      <td>28</td>\n      <td>0072-0036-0425</td>\n      <td>Rectangle</td>\n      <td>none</td>\n      <td>413</td>\n      <td>26</td>\n      <td>25</td>\n      <td>20</td>\n      <td>72</td>\n      <td>NaN</td>\n      <td>...</td>\n      <td>46</td>\n      <td>NaN</td>\n      <td>395.253906</td>\n      <td>419.179688</td>\n      <td>25.390625</td>\n      <td>44.921875</td>\n      <td>170.437500</td>\n      <td>281.367188</td>\n      <td>135.742188</td>\n      <td>170.437500</td>\n    </tr>\n    <tr>\n      <th>29</th>\n      <td>29</td>\n      <td>0038-0409-0289</td>\n      <td>Rectangle</td>\n      <td>none</td>\n      <td>277</td>\n      <td>397</td>\n      <td>24</td>\n      <td>24</td>\n      <td>38</td>\n      <td>NaN</td>\n      <td>...</td>\n      <td>421</td>\n      <td>NaN</td>\n      <td>265.097656</td>\n      <td>288.066406</td>\n      <td>387.695312</td>\n      <td>411.132812</td>\n      <td>89.953125</td>\n      <td>216.289063</td>\n      <td>322.753906</td>\n      <td>89.953125</td>\n    </tr>\n    <tr>\n      <th>30</th>\n      <td>30</td>\n      <td>0039-0476-0269</td>\n      <td>Rectangle</td>\n      <td>none</td>\n      <td>259</td>\n      <td>466</td>\n      <td>20</td>\n      <td>21</td>\n      <td>39</td>\n      <td>NaN</td>\n      <td>...</td>\n      <td>487</td>\n      <td>NaN</td>\n      <td>247.871094</td>\n      <td>267.011719</td>\n      <td>455.078125</td>\n      <td>475.585938</td>\n      <td>92.320312</td>\n      <td>243.564453</td>\n      <td>369.140625</td>\n      <td>92.320312</td>\n    </tr>\n    <tr>\n      <th>31</th>\n      <td>31</td>\n      <td>0059-0420-0377</td>\n      <td>Rectangle</td>\n      <td>none</td>\n      <td>370</td>\n      <td>411</td>\n      <td>15</td>\n      <td>18</td>\n      <td>59</td>\n      <td>NaN</td>\n      <td>...</td>\n      <td>429</td>\n      <td>NaN</td>\n      <td>354.101562</td>\n      <td>368.457031</td>\n      <td>401.367188</td>\n      <td>418.945312</td>\n      <td>139.664062</td>\n      <td>311.992188</td>\n      <td>333.496094</td>\n      <td>139.664062</td>\n    </tr>\n    <tr>\n      <th>32</th>\n      <td>32</td>\n      <td>0088-0105-0490</td>\n      <td>Rectangle</td>\n      <td>none</td>\n      <td>475</td>\n      <td>96</td>\n      <td>30</td>\n      <td>18</td>\n      <td>88</td>\n      <td>NaN</td>\n      <td>...</td>\n      <td>114</td>\n      <td>NaN</td>\n      <td>454.589844</td>\n      <td>483.300781</td>\n      <td>93.750000</td>\n      <td>111.328125</td>\n      <td>208.312500</td>\n      <td>285.195313</td>\n      <td>182.617188</td>\n      <td>208.312500</td>\n    </tr>\n    <tr>\n      <th>33</th>\n      <td>33</td>\n      <td>0098-0169-0135</td>\n      <td>Rectangle</td>\n      <td>none</td>\n      <td>122</td>\n      <td>159</td>\n      <td>26</td>\n      <td>21</td>\n      <td>98</td>\n      <td>NaN</td>\n      <td>...</td>\n      <td>180</td>\n      <td>NaN</td>\n      <td>116.757812</td>\n      <td>141.640625</td>\n      <td>155.273438</td>\n      <td>175.781250</td>\n      <td>231.984375</td>\n      <td>238.300781</td>\n      <td>221.191406</td>\n      <td>231.984375</td>\n    </tr>\n    <tr>\n      <th>34</th>\n      <td>34</td>\n      <td>0063-0387-0103</td>\n      <td>Rectangle</td>\n      <td>none</td>\n      <td>91</td>\n      <td>375</td>\n      <td>24</td>\n      <td>25</td>\n      <td>63</td>\n      <td>NaN</td>\n      <td>...</td>\n      <td>400</td>\n      <td>NaN</td>\n      <td>87.089844</td>\n      <td>110.058594</td>\n      <td>366.210938</td>\n      <td>390.625000</td>\n      <td>149.132812</td>\n      <td>127.763672</td>\n      <td>327.636719</td>\n      <td>149.132812</td>\n    </tr>\n    <tr>\n      <th>35</th>\n      <td>35</td>\n      <td>0073-0030-0141</td>\n      <td>Rectangle</td>\n      <td>none</td>\n      <td>130</td>\n      <td>19</td>\n      <td>22</td>\n      <td>22</td>\n      <td>73</td>\n      <td>NaN</td>\n      <td>...</td>\n      <td>41</td>\n      <td>NaN</td>\n      <td>124.414062</td>\n      <td>145.468750</td>\n      <td>18.554688</td>\n      <td>40.039062</td>\n      <td>172.804688</td>\n      <td>198.105469</td>\n      <td>164.550781</td>\n      <td>172.804688</td>\n    </tr>\n    <tr>\n      <th>36</th>\n      <td>36</td>\n      <td>0049-0365-0112</td>\n      <td>Rectangle</td>\n      <td>none</td>\n      <td>105</td>\n      <td>356</td>\n      <td>14</td>\n      <td>19</td>\n      <td>49</td>\n      <td>NaN</td>\n      <td>...</td>\n      <td>375</td>\n      <td>NaN</td>\n      <td>100.488281</td>\n      <td>113.886719</td>\n      <td>347.656250</td>\n      <td>366.210938</td>\n      <td>115.992188</td>\n      <td>103.837891</td>\n      <td>338.378906</td>\n      <td>115.992188</td>\n    </tr>\n    <tr>\n      <th>37</th>\n      <td>37</td>\n      <td>0123-0006-0092</td>\n      <td>Rectangle</td>\n      <td>none</td>\n      <td>77</td>\n      <td>0</td>\n      <td>30</td>\n      <td>13</td>\n      <td>123</td>\n      <td>NaN</td>\n      <td>...</td>\n      <td>13</td>\n      <td>NaN</td>\n      <td>73.691406</td>\n      <td>102.402344</td>\n      <td>0.000000</td>\n      <td>12.695312</td>\n      <td>291.164062</td>\n      <td>121.064453</td>\n      <td>165.527344</td>\n      <td>291.164062</td>\n    </tr>\n    <tr>\n      <th>38</th>\n      <td>38</td>\n      <td>0005-0076-0180</td>\n      <td>Rectangle</td>\n      <td>none</td>\n      <td>171</td>\n      <td>67</td>\n      <td>19</td>\n      <td>19</td>\n      <td>5</td>\n      <td>NaN</td>\n      <td>...</td>\n      <td>86</td>\n      <td>NaN</td>\n      <td>163.652344</td>\n      <td>181.835938</td>\n      <td>65.429688</td>\n      <td>83.984375</td>\n      <td>11.835938</td>\n      <td>287.587891</td>\n      <td>215.332031</td>\n      <td>11.835938</td>\n    </tr>\n    <tr>\n      <th>39</th>\n      <td>39</td>\n      <td>0001-0077-0418</td>\n      <td>Rectangle</td>\n      <td>none</td>\n      <td>406</td>\n      <td>61</td>\n      <td>24</td>\n      <td>33</td>\n      <td>1</td>\n      <td>NaN</td>\n      <td>...</td>\n      <td>94</td>\n      <td>NaN</td>\n      <td>388.554688</td>\n      <td>411.523438</td>\n      <td>59.570312</td>\n      <td>91.796875</td>\n      <td>2.367188</td>\n      <td>419.658203</td>\n      <td>212.890625</td>\n      <td>2.367188</td>\n    </tr>\n    <tr>\n      <th>40</th>\n      <td>40</td>\n      <td>0038-0059-0279</td>\n      <td>Rectangle</td>\n      <td>none</td>\n      <td>268</td>\n      <td>50</td>\n      <td>23</td>\n      <td>18</td>\n      <td>38</td>\n      <td>NaN</td>\n      <td>...</td>\n      <td>68</td>\n      <td>NaN</td>\n      <td>256.484375</td>\n      <td>278.496094</td>\n      <td>48.828125</td>\n      <td>66.406250</td>\n      <td>89.953125</td>\n      <td>270.839844</td>\n      <td>220.214844</td>\n      <td>89.953125</td>\n    </tr>\n    <tr>\n      <th>41</th>\n      <td>41</td>\n      <td>0005-0335-0372</td>\n      <td>Rectangle</td>\n      <td>none</td>\n      <td>360</td>\n      <td>322</td>\n      <td>25</td>\n      <td>26</td>\n      <td>5</td>\n      <td>NaN</td>\n      <td>...</td>\n      <td>348</td>\n      <td>NaN</td>\n      <td>344.531250</td>\n      <td>368.457031</td>\n      <td>314.453125</td>\n      <td>339.843750</td>\n      <td>11.835938</td>\n      <td>341.181641</td>\n      <td>373.046875</td>\n      <td>11.835938</td>\n    </tr>\n    <tr>\n      <th>42</th>\n      <td>42</td>\n      <td>0054-0379-0418</td>\n      <td>Rectangle</td>\n      <td>none</td>\n      <td>407</td>\n      <td>369</td>\n      <td>22</td>\n      <td>21</td>\n      <td>54</td>\n      <td>NaN</td>\n      <td>...</td>\n      <td>390</td>\n      <td>NaN</td>\n      <td>389.511719</td>\n      <td>410.566406</td>\n      <td>360.351562</td>\n      <td>380.859375</td>\n      <td>127.828125</td>\n      <td>416.787109</td>\n      <td>386.718750</td>\n      <td>127.828125</td>\n    </tr>\n    <tr>\n      <th>43</th>\n      <td>43</td>\n      <td>0066-0023-0279</td>\n      <td>Rectangle</td>\n      <td>none</td>\n      <td>271</td>\n      <td>15</td>\n      <td>16</td>\n      <td>16</td>\n      <td>66</td>\n      <td>NaN</td>\n      <td>...</td>\n      <td>31</td>\n      <td>NaN</td>\n      <td>259.355469</td>\n      <td>274.667969</td>\n      <td>14.648438</td>\n      <td>30.273438</td>\n      <td>156.234375</td>\n      <td>351.708984</td>\n      <td>224.609375</td>\n      <td>156.234375</td>\n    </tr>\n    <tr>\n      <th>44</th>\n      <td>44</td>\n      <td>0079-0246-0007</td>\n      <td>Rectangle</td>\n      <td>none</td>\n      <td>0</td>\n      <td>233</td>\n      <td>15</td>\n      <td>26</td>\n      <td>79</td>\n      <td>NaN</td>\n      <td>...</td>\n      <td>259</td>\n      <td>NaN</td>\n      <td>0.000000</td>\n      <td>14.355469</td>\n      <td>227.539062</td>\n      <td>252.929688</td>\n      <td>187.007812</td>\n      <td>179.443359</td>\n      <td>350.097656</td>\n      <td>187.007812</td>\n    </tr>\n    <tr>\n      <th>45</th>\n      <td>45</td>\n      <td>0086-0242-0303</td>\n      <td>Rectangle</td>\n      <td>none</td>\n      <td>293</td>\n      <td>232</td>\n      <td>21</td>\n      <td>21</td>\n      <td>86</td>\n      <td>NaN</td>\n      <td>...</td>\n      <td>253</td>\n      <td>NaN</td>\n      <td>280.410156</td>\n      <td>300.507812</td>\n      <td>226.562500</td>\n      <td>247.070312</td>\n      <td>203.578125</td>\n      <td>301.464844</td>\n      <td>351.562500</td>\n      <td>203.578125</td>\n    </tr>\n    <tr>\n      <th>46</th>\n      <td>46</td>\n      <td>0128-0011-0281</td>\n      <td>Rectangle</td>\n      <td>none</td>\n      <td>273</td>\n      <td>2</td>\n      <td>16</td>\n      <td>18</td>\n      <td>128</td>\n      <td>NaN</td>\n      <td>...</td>\n      <td>20</td>\n      <td>NaN</td>\n      <td>261.269531</td>\n      <td>276.582031</td>\n      <td>1.953125</td>\n      <td>19.531250</td>\n      <td>303.000000</td>\n      <td>296.201172</td>\n      <td>248.046875</td>\n      <td>303.000000</td>\n    </tr>\n    <tr>\n      <th>47</th>\n      <td>47</td>\n      <td>0073-0028-0304</td>\n      <td>Rectangle</td>\n      <td>none</td>\n      <td>295</td>\n      <td>22</td>\n      <td>18</td>\n      <td>13</td>\n      <td>73</td>\n      <td>NaN</td>\n      <td>...</td>\n      <td>35</td>\n      <td>NaN</td>\n      <td>282.324219</td>\n      <td>299.550781</td>\n      <td>21.484375</td>\n      <td>34.179688</td>\n      <td>172.804688</td>\n      <td>286.152344</td>\n      <td>260.742188</td>\n      <td>172.804688</td>\n    </tr>\n    <tr>\n      <th>48</th>\n      <td>48</td>\n      <td>0050-0113-0081</td>\n      <td>Rectangle</td>\n      <td>none</td>\n      <td>68</td>\n      <td>100</td>\n      <td>26</td>\n      <td>27</td>\n      <td>50</td>\n      <td>NaN</td>\n      <td>...</td>\n      <td>127</td>\n      <td>NaN</td>\n      <td>65.078125</td>\n      <td>89.960938</td>\n      <td>97.656250</td>\n      <td>124.023438</td>\n      <td>118.359375</td>\n      <td>160.781250</td>\n      <td>294.921875</td>\n      <td>118.359375</td>\n    </tr>\n    <tr>\n      <th>49</th>\n      <td>49</td>\n      <td>0056-0130-0153</td>\n      <td>Rectangle</td>\n      <td>none</td>\n      <td>141</td>\n      <td>119</td>\n      <td>24</td>\n      <td>23</td>\n      <td>56</td>\n      <td>NaN</td>\n      <td>...</td>\n      <td>142</td>\n      <td>NaN</td>\n      <td>134.941406</td>\n      <td>157.910156</td>\n      <td>116.210938</td>\n      <td>138.671875</td>\n      <td>132.562500</td>\n      <td>239.257813</td>\n      <td>308.105469</td>\n      <td>132.562500</td>\n    </tr>\n  </tbody>\n</table>\n<p>50 rows × 21 columns</p>\n</div>"
     },
     "execution_count": 6,
     "metadata": {},
     "output_type": "execute_result"
    }
   ],
   "source": [
    "# make sure you `pip install zarr`\n",
    "\n",
    "# Load data from `zarr` files\n",
    "\n",
    "\n",
    "df_neuro_coor = pd.read_csv(path_dataset_1_neuro_coordinates)\n",
    "df_vascu_coor = pd.read_csv(path_dataset_1_vascu_coordinates)\n",
    "\n",
    "# scaling\n",
    "df_neuro_coor['scaled_x'] = (df_neuro_coor['X1 [μm]'] + df_vascu_coor['X2 [μm]']) / 2\n",
    "df_neuro_coor['scaled_y'] = (df_neuro_coor['Y1 [μm]'] + df_vascu_coor['Y2 [μm]']) / 2\n",
    "df_neuro_coor['scaled_z'] = df_neuro_coor['Z [μm]']\n",
    "\n",
    "df_vascu_coor['scaled_x'] = (df_vascu_coor['X1 [μm]'] + df_vascu_coor['X2 [μm]']) / 2\n",
    "df_vascu_coor['scaled_y'] = (df_vascu_coor['Y1 [μm]'] + df_vascu_coor['Y2 [μm]']) / 2\n",
    "df_vascu_coor['scaled_z'] = df_vascu_coor['Z [μm]']\n",
    "\n",
    "df_neuro_coor"
   ]
  },
  {
   "cell_type": "code",
   "execution_count": 17,
   "outputs": [
    {
     "data": {
      "application/vnd.plotly.v1+json": {
       "config": {
        "plotlyServerURL": "https://plot.ly"
       },
       "data": [
        {
         "hovertemplate": "scaled_x=%{x}<br>scaled_y=%{y}<br>scaled_z=%{z}<extra></extra>",
         "legendgroup": "",
         "marker": {
          "color": "#636efa",
          "size": 3,
          "symbol": "circle"
         },
         "mode": "markers",
         "name": "",
         "scene": "scene",
         "showlegend": false,
         "type": "scatter3d",
         "x": [
          403.38867189999996,
          338.31054689999996,
          272.75390627499996,
          201.93359375,
          300.50781255,
          206.71875005,
          221.55273440000002,
          207.67578125,
          297.63671875,
          304.81445315,
          268.9257813,
          367.02148439999996,
          366.5429688,
          276.58203125,
          95.2246094,
          191.88476565,
          267.01171875,
          140.6835938,
          203.36914065,
          321.5625,
          379.46289064999996,
          260.79101564999996,
          222.03125,
          283.28125005,
          274.18945315,
          217.24609379999998,
          173.2226563,
          279.45312505,
          281.36718755,
          216.28906254999998,
          243.56445315000002,
          311.9921875,
          285.19531255,
          238.30078125,
          127.763671875,
          198.10546875,
          103.83789064999999,
          121.064453125,
          287.58789065,
          419.65820314999996,
          270.83984375,
          341.18164064999996,
          416.78710939999996,
          351.70898439999996,
          179.4433594,
          301.4648438,
          296.20117189999996,
          286.1523438,
          160.78125,
          239.25781254999998
         ],
         "y": [
          91.30859375,
          56.640625,
          32.71484375,
          256.8359375,
          213.37890625,
          229.98046875,
          183.10546875,
          176.26953125,
          226.07421875,
          234.86328125,
          237.3046875,
          278.80859375,
          175.29296875,
          109.375,
          254.39453125,
          252.9296875,
          92.7734375,
          92.7734375,
          96.6796875,
          228.515625,
          306.15234375,
          228.02734375,
          219.23828125,
          342.7734375,
          285.15625,
          134.27734375,
          169.921875,
          219.23828125,
          135.7421875,
          322.75390625,
          369.140625,
          333.49609375,
          182.6171875,
          221.19140625,
          327.63671875,
          164.55078125,
          338.37890625,
          165.52734375,
          215.33203125,
          212.890625,
          220.21484375,
          373.046875,
          386.71875,
          224.609375,
          350.09765625,
          351.5625,
          248.046875,
          260.7421875,
          294.921875,
          308.10546875
         ],
         "z": [
          243.8203125,
          267.4921875,
          203.578125,
          203.578125,
          179.90625,
          165.703125,
          203.578125,
          163.3359375,
          160.96875,
          125.4609375,
          303.0,
          303.0,
          127.828125,
          137.296875,
          303.0,
          303.0,
          286.4296875,
          286.4296875,
          18.9375,
          272.2265625,
          241.453125,
          151.5,
          142.03125,
          123.09375,
          123.09375,
          168.0703125,
          111.2578125,
          111.2578125,
          170.4375,
          89.953125,
          92.3203125,
          139.6640625,
          208.3125,
          231.984375,
          149.1328125,
          172.8046875,
          115.9921875,
          291.1640625,
          11.8359375,
          2.3671875,
          89.953125,
          11.8359375,
          127.828125,
          156.234375,
          187.0078125,
          203.578125,
          303.0,
          172.8046875,
          118.359375,
          132.5625
         ]
        },
        {
         "marker": {
          "size": 3
         },
         "mode": "markers",
         "name": "blood-vessels",
         "type": "scatter3d",
         "x": [
          342.13867189999996,
          287.109375,
          445.49804689999996,
          391.42578125,
          414.87304689999996,
          193.79882815000002,
          235.90820315000002,
          212.93945315000002,
          465.59570314999996,
          424.44335939999996,
          271.31835939999996,
          341.6601563,
          277.53906255,
          398.125,
          156.47460940000002,
          373.24218755,
          438.3203125,
          159.34570315000002,
          281.3671875,
          266.53320314999996,
          312.47070314999996,
          227.29492190000002,
          171.30859375,
          206.24023440000002,
          296.20117189999996,
          253.13476565,
          238.77929690000002,
          296.67968755,
          160.30273440000002,
          162.21679690000002,
          221.07421875,
          257.9199219,
          109.58007814999999,
          338.31054689999996,
          162.6953125,
          250.7421875,
          97.6171875,
          161.25976565000002,
          382.33398439999996,
          432.57812505,
          270.83984375,
          317.25585939999996,
          436.40625,
          433.05664064999996,
          339.7460938,
          318.21289064999996,
          325.86914064999996,
          278.4960938,
          251.69921875,
          335.43945314999996,
          222.98828125,
          200.49804690000002,
          245.0,
          236.38671875,
          190.4492188,
          149.296875,
          247.87109379999998,
          383.7695313,
          448.36914064999996,
          467.03125005,
          197.62695315000002,
          87.08984377499999,
          219.63867190000002,
          236.3867188,
          174.17968755,
          189.01367190000002,
          85.17578125,
          461.2890625,
          302.42187505,
          310.55664064999996,
          430.6640625,
          218.203125,
          125.37109380000001,
          272.7539063,
          154.56054690000002,
          115.322265625,
          213.4179688,
          360.80078125,
          354.10156255,
          477.08007814999996,
          178.0078125,
          212.46093755,
          232.5585938,
          209.58984375,
          387.11914064999996,
          202.89062505,
          340.22460939999996,
          46.416015625,
          299.07226564999996,
          370.84960939999996,
          289.9804688,
          72.255859375,
          56.46484375,
          365.10742189999996,
          14.35546875,
          43.544921875,
          15.791015625,
          433.53515625,
          256.96289065,
          178.48632815000002,
          194.75585940000002,
          288.0664063,
          284.71679689999996,
          183.27148440000002,
          444.06250005,
          272.7539063,
          343.09570314999996,
          471.81640625,
          138.76953125,
          137.81250005,
          91.875,
          133.984375,
          194.27734375,
          28.7109375,
          42.109375,
          158.8671875,
          140.68359375,
          329.69726564999996,
          77.51953125,
          351.23046875,
          236.38671875,
          268.92578125,
          362.71484375,
          126.328125,
          13.876953125,
          119.6289063,
          230.16601565000002,
          149.29687505,
          103.35937502499999,
          112.929687525,
          112.92968755,
          309.1210938,
          71.77734375,
          311.51367189999996,
          431.6210938,
          406.73828125,
          356.49414064999996,
          275.625,
          186.14257815000002,
          197.1484375,
          194.75585940000002,
          309.12109375,
          424.44335939999996,
          143.5546875,
          329.21875005,
          254.57031254999998,
          217.72460940000002,
          128.2421875,
          334.48242189999996,
          26.318359375,
          254.5703125,
          232.55859375,
          377.54882814999996,
          367.02148439999996,
          385.6835938,
          180.40039065000002,
          463.203125,
          209.5898438,
          430.18554689999996,
          7.177734375,
          126.328125,
          264.61914064999996,
          199.06250005,
          334.9609375,
          55.986328125,
          278.01757814999996,
          99.53125002499999,
          279.93164064999996,
          96.181640625,
          367.5,
          276.10351564999996,
          359.84375,
          157.43164065000002,
          428.27148439999996,
          410.08789064999996,
          248.34960940000002,
          310.55664064999996,
          124.89257815,
          184.22851565000002,
          206.24023440000002,
          135.41992190000002,
          469.42382814999996,
          153.60351565000002,
          413.91601564999996,
          109.58007814999999,
          83.740234375,
          220.59570315000002,
          423.48632814999996,
          18.662109375,
          462.24609375,
          304.33593755,
          168.91601565000002,
          96.181640625,
          147.38281255,
          423.96484375,
          87.08984375,
          424.921875,
          234.4726563,
          117.23632814999999,
          393.3398438,
          467.50976564999996,
          117.23632814999999,
          162.21679690000002,
          66.513671875,
          26.796875,
          328.26171875,
          118.19335939999999,
          372.76367189999996,
          223.9453125,
          386.16210939999996,
          23.92578125,
          386.640625,
          161.73828125,
          188.5351563,
          126.328125,
          246.91406254999998,
          226.33789065000002,
          84.21875,
          408.17382814999996,
          175.61523440000002,
          471.33789064999996,
          322.99804689999996,
          50.72265625,
          378.02734375,
          267.4902344,
          116.7578125,
          289.9804688,
          97.138671875,
          301.4648438,
          104.31640625,
          75.60546875,
          116.27929689999999,
          71.298828125,
          128.24218755,
          373.24218755,
          258.39843755,
          142.11914065000002,
          354.58007814999996,
          382.33398439999996,
          135.8984375,
          419.65820314999996,
          350.2734375,
          378.0273438,
          198.1054688,
          196.19140625,
          208.6328125,
          214.85351565000002,
          63.642578125,
          58.37890625,
          291.41601564999996,
          345.96679689999996,
          141.1621094,
          121.06445315,
          152.64648440000002,
          228.25195315000002,
          74.169921875,
          378.50585939999996,
          53.115234375,
          169.39453125,
          296.6796875,
          75.126953125,
          423.9648438,
          224.9023438,
          370.37109375,
          38.28125,
          134.9414063,
          134.94140625,
          392.3828125,
          386.640625,
          123.45703130000001,
          273.23242189999996,
          243.56445315000002,
          8.134765625,
          19.140625,
          383.29101564999996,
          357.9296875,
          415.3515625,
          51.6796875,
          431.14257814999996,
          356.97265625,
          108.14453125,
          109.58007814999999,
          107.666015625,
          181.35742190000002,
          369.4140625,
          322.5195313,
          393.33984375,
          250.2636719,
          25.83984375,
          66.9921875,
          35.41015625,
          347.40234375,
          286.15234375,
          325.39062505,
          277.53906255,
          77.998046875,
          378.0273438,
          257.4414063,
          132.07031255,
          217.72460940000002,
          43.544921875,
          102.40234375,
          71.298828125,
          283.28125,
          234.95117190000002,
          252.17773440000002,
          262.2265625,
          46.89453125,
          83.740234375,
          150.25390625,
          27.275390625,
          91.875,
          35.41015625,
          11.484375,
          17.2265625,
          337.35351564999996,
          325.390625,
          75.60546875,
          267.0117188,
          189.4921875,
          315.82031255,
          137.33398440000002,
          291.41601564999996,
          340.22460939999996,
          159.8242188,
          377.54882814999996,
          472.77343755,
          142.11914065000002,
          30.146484375,
          452.19726564999996,
          407.21679689999996,
          154.56054690000002,
          30.625,
          11.962890625,
          421.09375005,
          100.966796875,
          292.8515625,
          416.78710939999996,
          67.94921877499999,
          298.11523439999996,
          384.24804689999996,
          179.92187505,
          395.25390625,
          207.19726565000002,
          34.931640625,
          257.9199219,
          386.64062505,
          289.02343755,
          95.70312502499999,
          446.9335938,
          279.93164064999996,
          360.8007813,
          50.244140625,
          121.5429688,
          430.66406255,
          188.53515625,
          474.20898439999996,
          473.73046875,
          270.83984375,
          48.330078125,
          216.2890625,
          197.14843755,
          235.42968755,
          270.36132814999996,
          311.51367189999996,
          12.919921875,
          171.78710940000002,
          32.060546875,
          93.310546875,
          449.32617189999996,
          235.90820315000002,
          441.66992189999996,
          207.6757813,
          84.697265625,
          175.1367188,
          30.625,
          394.29687505,
          465.59570314999996,
          248.3496094,
          77.51953125,
          431.62109375,
          388.55468755,
          15.3125,
          397.1679688,
          296.6796875,
          173.70117190000002,
          21.533203125,
          241.171875,
          311.03515625,
          20.09765625,
          66.513671875,
          260.3125,
          326.34765625,
          274.18945314999996,
          345.48828125,
          430.18554689999996,
          303.37890625,
          279.453125,
          310.55664064999996,
          109.1015625,
          434.97070314999996,
          222.03125005,
          465.11718755,
          446.9335938,
          404.34570314999996,
          383.29101564999996,
          221.0742188,
          132.07031255,
          34.931640625,
          362.23632814999996,
          253.13476565000002,
          72.73437502499999,
          69.86328125,
          43.544921875,
          56.46484375,
          45.9375,
          78.955078125,
          54.55078125,
          400.99609375,
          280.41015625,
          279.93164064999996,
          298.11523439999996,
          407.69531255,
          383.29101564999996,
          95.70312502499999
         ],
         "y": [
          23.4375,
          25.390625,
          26.3671875,
          39.0625,
          46.38671875,
          47.8515625,
          50.78125,
          57.6171875,
          53.7109375,
          112.79296875,
          103.02734375,
          131.34765625,
          154.78515625,
          155.76171875,
          156.73828125,
          157.71484375,
          166.50390625,
          177.734375,
          187.01171875,
          189.94140625,
          190.91796875,
          191.40625,
          199.21875,
          207.03125,
          208.49609375,
          218.26171875,
          224.12109375,
          231.4453125,
          237.3046875,
          250.9765625,
          254.39453125,
          260.7421875,
          262.6953125,
          216.30859375,
          273.4375,
          300.29296875,
          307.12890625,
          310.05859375,
          348.6328125,
          349.12109375,
          385.25390625,
          393.06640625,
          406.25,
          424.31640625,
          456.54296875,
          467.28515625,
          485.83984375,
          487.79296875,
          488.76953125,
          494.62890625,
          28.3203125,
          28.3203125,
          88.37890625,
          339.35546875,
          390.13671875,
          188.4765625,
          375.0,
          385.25390625,
          417.48046875,
          122.55859375,
          152.83203125,
          167.48046875,
          448.2421875,
          320.3125,
          416.015625,
          417.48046875,
          86.42578125,
          99.609375,
          393.5546875,
          25.87890625,
          232.421875,
          299.8046875,
          344.23828125,
          366.69921875,
          371.09375,
          229.00390625,
          319.82421875,
          390.625,
          417.96875,
          183.59375,
          337.40234375,
          344.23828125,
          361.328125,
          381.34765625,
          413.0859375,
          20.99609375,
          375.48828125,
          81.0546875,
          163.57421875,
          245.60546875,
          270.99609375,
          347.65625,
          386.23046875,
          38.57421875,
          59.5703125,
          65.91796875,
          79.1015625,
          196.2890625,
          253.90625,
          291.015625,
          309.08203125,
          423.828125,
          450.1953125,
          69.3359375,
          134.27734375,
          144.53125,
          251.953125,
          337.40234375,
          436.5234375,
          450.1953125,
          67.3828125,
          91.796875,
          104.98046875,
          267.578125,
          413.57421875,
          155.76171875,
          156.73828125,
          170.41015625,
          213.37890625,
          232.91015625,
          256.34765625,
          335.9375,
          362.3046875,
          375.9765625,
          423.33984375,
          427.734375,
          31.25,
          170.41015625,
          171.38671875,
          262.6953125,
          408.69140625,
          467.7734375,
          16.6015625,
          115.234375,
          131.8359375,
          133.30078125,
          186.5234375,
          214.84375,
          218.26171875,
          268.5546875,
          289.55078125,
          364.2578125,
          408.203125,
          423.33984375,
          426.7578125,
          54.19921875,
          63.96484375,
          202.1484375,
          337.890625,
          354.98046875,
          387.20703125,
          397.4609375,
          45.8984375,
          51.26953125,
          185.05859375,
          267.08984375,
          268.5546875,
          294.921875,
          295.8984375,
          308.59375,
          326.171875,
          491.2109375,
          80.56640625,
          136.71875,
          314.453125,
          320.80078125,
          331.0546875,
          341.796875,
          347.16796875,
          350.5859375,
          356.4453125,
          381.34765625,
          409.66796875,
          458.984375,
          488.28125,
          41.50390625,
          144.04296875,
          342.7734375,
          343.75,
          356.4453125,
          54.19921875,
          415.52734375,
          17.578125,
          313.96484375,
          319.82421875,
          434.08203125,
          458.0078125,
          66.40625,
          110.3515625,
          198.73046875,
          333.49609375,
          346.6796875,
          454.58984375,
          456.54296875,
          470.703125,
          480.46875,
          490.72265625,
          492.67578125,
          329.58984375,
          391.6015625,
          454.58984375,
          45.8984375,
          133.7890625,
          155.76171875,
          169.921875,
          260.7421875,
          288.0859375,
          314.453125,
          112.79296875,
          135.25390625,
          390.13671875,
          406.25,
          435.546875,
          35.64453125,
          99.12109375,
          331.0546875,
          335.44921875,
          352.05078125,
          375.0,
          415.0390625,
          479.00390625,
          99.12109375,
          291.9921875,
          295.41015625,
          439.94140625,
          17.08984375,
          18.06640625,
          121.09375,
          126.46484375,
          419.43359375,
          145.99609375,
          217.28515625,
          342.7734375,
          176.7578125,
          182.6171875,
          241.69921875,
          322.265625,
          326.66015625,
          391.6015625,
          18.06640625,
          88.37890625,
          220.21484375,
          223.14453125,
          273.4375,
          311.03515625,
          421.38671875,
          10.7421875,
          23.4375,
          56.15234375,
          292.96875,
          360.83984375,
          423.33984375,
          65.91796875,
          109.375,
          229.4921875,
          243.65234375,
          275.390625,
          340.8203125,
          236.328125,
          388.671875,
          464.84375,
          166.50390625,
          173.828125,
          224.609375,
          260.25390625,
          280.76171875,
          404.78515625,
          27.34375,
          68.359375,
          107.91015625,
          176.26953125,
          205.078125,
          385.25390625,
          407.2265625,
          486.328125,
          490.234375,
          115.72265625,
          312.98828125,
          363.76953125,
          399.90234375,
          185.546875,
          292.48046875,
          353.02734375,
          395.99609375,
          122.55859375,
          237.3046875,
          458.49609375,
          470.21484375,
          291.50390625,
          325.1953125,
          327.63671875,
          476.07421875,
          481.4453125,
          489.74609375,
          353.515625,
          373.046875,
          376.953125,
          424.8046875,
          117.67578125,
          247.55859375,
          368.65234375,
          464.35546875,
          78.125,
          224.609375,
          271.97265625,
          13.18359375,
          45.41015625,
          92.7734375,
          273.92578125,
          301.26953125,
          343.75,
          434.5703125,
          442.3828125,
          365.72265625,
          38.57421875,
          296.875,
          311.5234375,
          38.0859375,
          119.62890625,
          205.078125,
          223.6328125,
          43.9453125,
          83.0078125,
          97.65625,
          165.0390625,
          245.1171875,
          448.73046875,
          151.3671875,
          218.75,
          291.50390625,
          426.7578125,
          78.125,
          97.65625,
          227.05078125,
          292.96875,
          363.76953125,
          385.25390625,
          133.7890625,
          212.40234375,
          31.25,
          105.46875,
          355.46875,
          125.9765625,
          186.03515625,
          459.47265625,
          470.703125,
          233.3984375,
          47.36328125,
          51.26953125,
          92.7734375,
          159.66796875,
          209.47265625,
          484.375,
          131.34765625,
          141.11328125,
          130.859375,
          132.32421875,
          156.25,
          190.4296875,
          491.2109375,
          77.1484375,
          98.14453125,
          14.6484375,
          51.26953125,
          170.41015625,
          216.30859375,
          402.83203125,
          253.41796875,
          315.4296875,
          438.4765625,
          448.73046875,
          110.3515625,
          224.12109375,
          329.1015625,
          43.45703125,
          106.4453125,
          283.69140625,
          392.08984375,
          420.8984375,
          104.00390625,
          385.25390625,
          155.2734375,
          81.0546875,
          214.35546875,
          260.7421875,
          68.84765625,
          16.6015625,
          77.1484375,
          126.46484375,
          486.81640625,
          487.79296875,
          180.17578125,
          276.85546875,
          364.2578125,
          198.2421875,
          127.44140625,
          230.46875,
          210.9375,
          215.8203125,
          386.23046875,
          186.03515625,
          424.8046875,
          74.21875,
          406.73828125,
          55.17578125,
          66.40625,
          375.9765625,
          375.48828125,
          424.8046875,
          272.94921875,
          208.0078125,
          18.06640625,
          407.2265625,
          180.17578125,
          440.4296875,
          457.03125,
          117.1875,
          176.26953125,
          185.05859375,
          198.73046875,
          239.74609375,
          248.53515625,
          289.55078125,
          315.91796875,
          401.85546875
         ],
         "z": [
          2.3671875,
          2.3671875,
          2.3671875,
          2.3671875,
          2.3671875,
          2.3671875,
          2.3671875,
          2.3671875,
          2.3671875,
          2.3671875,
          2.3671875,
          2.3671875,
          2.3671875,
          2.3671875,
          2.3671875,
          2.3671875,
          2.3671875,
          2.3671875,
          2.3671875,
          2.3671875,
          2.3671875,
          2.3671875,
          2.3671875,
          2.3671875,
          2.3671875,
          2.3671875,
          2.3671875,
          2.3671875,
          2.3671875,
          2.3671875,
          2.3671875,
          2.3671875,
          2.3671875,
          2.3671875,
          2.3671875,
          2.3671875,
          2.3671875,
          2.3671875,
          2.3671875,
          2.3671875,
          2.3671875,
          2.3671875,
          2.3671875,
          2.3671875,
          2.3671875,
          2.3671875,
          2.3671875,
          2.3671875,
          2.3671875,
          2.3671875,
          4.734375,
          7.1015625,
          7.1015625,
          7.1015625,
          7.1015625,
          9.46875,
          9.46875,
          9.46875,
          9.46875,
          11.8359375,
          11.8359375,
          11.8359375,
          11.8359375,
          14.203125,
          14.203125,
          14.203125,
          16.5703125,
          16.5703125,
          16.5703125,
          18.9375,
          18.9375,
          18.9375,
          18.9375,
          18.9375,
          18.9375,
          21.3046875,
          21.3046875,
          21.3046875,
          21.3046875,
          23.671875,
          23.671875,
          23.671875,
          23.671875,
          23.671875,
          23.671875,
          26.0390625,
          26.0390625,
          28.40625,
          28.40625,
          28.40625,
          28.40625,
          28.40625,
          28.40625,
          30.7734375,
          30.7734375,
          30.7734375,
          30.7734375,
          30.7734375,
          30.7734375,
          30.7734375,
          30.7734375,
          30.7734375,
          30.7734375,
          33.140625,
          33.140625,
          33.140625,
          33.140625,
          33.140625,
          33.140625,
          33.140625,
          35.5078125,
          35.5078125,
          35.5078125,
          35.5078125,
          35.5078125,
          37.875,
          37.875,
          37.875,
          37.875,
          37.875,
          37.875,
          37.875,
          37.875,
          37.875,
          37.875,
          37.875,
          40.2421875,
          40.2421875,
          33.140625,
          40.2421875,
          40.2421875,
          40.2421875,
          42.609375,
          42.609375,
          42.609375,
          42.609375,
          42.609375,
          42.609375,
          42.609375,
          42.609375,
          42.609375,
          42.609375,
          42.609375,
          42.609375,
          42.609375,
          44.9765625,
          44.9765625,
          44.9765625,
          44.9765625,
          44.9765625,
          44.9765625,
          44.9765625,
          47.34375,
          47.34375,
          47.34375,
          47.34375,
          47.34375,
          47.34375,
          47.34375,
          47.34375,
          47.34375,
          47.34375,
          49.7109375,
          49.7109375,
          49.7109375,
          49.7109375,
          49.7109375,
          49.7109375,
          49.7109375,
          49.7109375,
          49.7109375,
          49.7109375,
          49.7109375,
          49.7109375,
          49.7109375,
          52.078125,
          52.078125,
          52.078125,
          52.078125,
          52.078125,
          54.4453125,
          54.4453125,
          56.8125,
          56.8125,
          56.8125,
          56.8125,
          56.8125,
          59.1796875,
          59.1796875,
          59.1796875,
          59.1796875,
          59.1796875,
          59.1796875,
          59.1796875,
          59.1796875,
          59.1796875,
          59.1796875,
          59.1796875,
          61.546875,
          61.546875,
          61.546875,
          63.9140625,
          63.9140625,
          63.9140625,
          63.9140625,
          63.9140625,
          63.9140625,
          63.9140625,
          66.28125,
          66.28125,
          66.28125,
          66.28125,
          66.28125,
          68.6484375,
          68.6484375,
          68.6484375,
          68.6484375,
          68.6484375,
          68.6484375,
          68.6484375,
          68.6484375,
          71.015625,
          71.015625,
          71.015625,
          71.015625,
          73.3828125,
          73.3828125,
          73.3828125,
          73.3828125,
          73.3828125,
          75.75,
          75.75,
          75.75,
          78.1171875,
          78.1171875,
          78.1171875,
          78.1171875,
          78.1171875,
          78.1171875,
          80.484375,
          80.484375,
          80.484375,
          80.484375,
          80.484375,
          80.484375,
          80.484375,
          82.8515625,
          82.8515625,
          82.8515625,
          82.8515625,
          82.8515625,
          82.8515625,
          85.21875,
          85.21875,
          85.21875,
          85.21875,
          85.21875,
          85.21875,
          87.5859375,
          87.5859375,
          87.5859375,
          89.953125,
          89.953125,
          89.953125,
          89.953125,
          89.953125,
          89.953125,
          92.3203125,
          92.3203125,
          92.3203125,
          92.3203125,
          61.546875,
          92.3203125,
          92.3203125,
          92.3203125,
          92.3203125,
          94.6875,
          94.6875,
          94.6875,
          94.6875,
          97.0546875,
          97.0546875,
          97.0546875,
          97.0546875,
          99.421875,
          99.421875,
          99.421875,
          99.421875,
          101.7890625,
          101.7890625,
          101.7890625,
          101.7890625,
          101.7890625,
          101.7890625,
          104.15625,
          104.15625,
          104.15625,
          104.15625,
          106.5234375,
          106.5234375,
          106.5234375,
          106.5234375,
          108.890625,
          108.890625,
          108.890625,
          111.2578125,
          111.2578125,
          111.2578125,
          111.2578125,
          111.2578125,
          111.2578125,
          111.2578125,
          111.2578125,
          113.625,
          115.9921875,
          115.9921875,
          115.9921875,
          118.359375,
          118.359375,
          118.359375,
          118.359375,
          120.7265625,
          120.7265625,
          120.7265625,
          120.7265625,
          120.7265625,
          120.7265625,
          123.09375,
          123.09375,
          123.09375,
          123.09375,
          125.4609375,
          125.4609375,
          125.4609375,
          125.4609375,
          125.4609375,
          125.4609375,
          127.828125,
          127.828125,
          130.1953125,
          130.1953125,
          130.1953125,
          132.5625,
          132.5625,
          132.5625,
          132.5625,
          134.9296875,
          137.296875,
          137.296875,
          137.296875,
          137.296875,
          137.296875,
          137.296875,
          139.6640625,
          139.6640625,
          142.03125,
          142.03125,
          142.03125,
          142.03125,
          142.03125,
          144.3984375,
          144.3984375,
          146.765625,
          151.5,
          149.1328125,
          149.1328125,
          149.1328125,
          151.5,
          151.5,
          151.5,
          151.5,
          153.8671875,
          153.8671875,
          153.8671875,
          156.234375,
          156.234375,
          156.234375,
          156.234375,
          156.234375,
          158.6015625,
          158.6015625,
          160.96875,
          163.3359375,
          163.3359375,
          163.3359375,
          165.703125,
          168.0703125,
          170.4375,
          170.4375,
          170.4375,
          170.4375,
          172.8046875,
          172.8046875,
          172.8046875,
          175.171875,
          182.2734375,
          184.640625,
          187.0078125,
          187.0078125,
          187.0078125,
          189.375,
          189.375,
          191.7421875,
          198.84375,
          203.578125,
          203.578125,
          205.9453125,
          220.1484375,
          229.6171875,
          231.984375,
          234.3515625,
          236.71875,
          255.65625,
          267.4921875,
          288.796875,
          293.53125,
          303.0,
          303.0,
          303.0,
          303.0,
          303.0,
          303.0,
          303.0,
          303.0,
          303.0
         ]
        }
       ],
       "layout": {
        "legend": {
         "tracegroupgap": 0
        },
        "margin": {
         "t": 60
        },
        "scene": {
         "domain": {
          "x": [
           0.0,
           1.0
          ],
          "y": [
           0.0,
           1.0
          ]
         },
         "xaxis": {
          "title": {
           "text": "scaled_x"
          }
         },
         "yaxis": {
          "title": {
           "text": "scaled_y"
          }
         },
         "zaxis": {
          "title": {
           "text": "scaled_z"
          }
         }
        },
        "template": {
         "data": {
          "bar": [
           {
            "error_x": {
             "color": "#2a3f5f"
            },
            "error_y": {
             "color": "#2a3f5f"
            },
            "marker": {
             "line": {
              "color": "#E5ECF6",
              "width": 0.5
             }
            },
            "type": "bar"
           }
          ],
          "barpolar": [
           {
            "marker": {
             "line": {
              "color": "#E5ECF6",
              "width": 0.5
             }
            },
            "type": "barpolar"
           }
          ],
          "carpet": [
           {
            "aaxis": {
             "endlinecolor": "#2a3f5f",
             "gridcolor": "white",
             "linecolor": "white",
             "minorgridcolor": "white",
             "startlinecolor": "#2a3f5f"
            },
            "baxis": {
             "endlinecolor": "#2a3f5f",
             "gridcolor": "white",
             "linecolor": "white",
             "minorgridcolor": "white",
             "startlinecolor": "#2a3f5f"
            },
            "type": "carpet"
           }
          ],
          "choropleth": [
           {
            "colorbar": {
             "outlinewidth": 0,
             "ticks": ""
            },
            "type": "choropleth"
           }
          ],
          "contour": [
           {
            "colorbar": {
             "outlinewidth": 0,
             "ticks": ""
            },
            "colorscale": [
             [
              0.0,
              "#0d0887"
             ],
             [
              0.1111111111111111,
              "#46039f"
             ],
             [
              0.2222222222222222,
              "#7201a8"
             ],
             [
              0.3333333333333333,
              "#9c179e"
             ],
             [
              0.4444444444444444,
              "#bd3786"
             ],
             [
              0.5555555555555556,
              "#d8576b"
             ],
             [
              0.6666666666666666,
              "#ed7953"
             ],
             [
              0.7777777777777778,
              "#fb9f3a"
             ],
             [
              0.8888888888888888,
              "#fdca26"
             ],
             [
              1.0,
              "#f0f921"
             ]
            ],
            "type": "contour"
           }
          ],
          "contourcarpet": [
           {
            "colorbar": {
             "outlinewidth": 0,
             "ticks": ""
            },
            "type": "contourcarpet"
           }
          ],
          "heatmap": [
           {
            "colorbar": {
             "outlinewidth": 0,
             "ticks": ""
            },
            "colorscale": [
             [
              0.0,
              "#0d0887"
             ],
             [
              0.1111111111111111,
              "#46039f"
             ],
             [
              0.2222222222222222,
              "#7201a8"
             ],
             [
              0.3333333333333333,
              "#9c179e"
             ],
             [
              0.4444444444444444,
              "#bd3786"
             ],
             [
              0.5555555555555556,
              "#d8576b"
             ],
             [
              0.6666666666666666,
              "#ed7953"
             ],
             [
              0.7777777777777778,
              "#fb9f3a"
             ],
             [
              0.8888888888888888,
              "#fdca26"
             ],
             [
              1.0,
              "#f0f921"
             ]
            ],
            "type": "heatmap"
           }
          ],
          "heatmapgl": [
           {
            "colorbar": {
             "outlinewidth": 0,
             "ticks": ""
            },
            "colorscale": [
             [
              0.0,
              "#0d0887"
             ],
             [
              0.1111111111111111,
              "#46039f"
             ],
             [
              0.2222222222222222,
              "#7201a8"
             ],
             [
              0.3333333333333333,
              "#9c179e"
             ],
             [
              0.4444444444444444,
              "#bd3786"
             ],
             [
              0.5555555555555556,
              "#d8576b"
             ],
             [
              0.6666666666666666,
              "#ed7953"
             ],
             [
              0.7777777777777778,
              "#fb9f3a"
             ],
             [
              0.8888888888888888,
              "#fdca26"
             ],
             [
              1.0,
              "#f0f921"
             ]
            ],
            "type": "heatmapgl"
           }
          ],
          "histogram": [
           {
            "marker": {
             "colorbar": {
              "outlinewidth": 0,
              "ticks": ""
             }
            },
            "type": "histogram"
           }
          ],
          "histogram2d": [
           {
            "colorbar": {
             "outlinewidth": 0,
             "ticks": ""
            },
            "colorscale": [
             [
              0.0,
              "#0d0887"
             ],
             [
              0.1111111111111111,
              "#46039f"
             ],
             [
              0.2222222222222222,
              "#7201a8"
             ],
             [
              0.3333333333333333,
              "#9c179e"
             ],
             [
              0.4444444444444444,
              "#bd3786"
             ],
             [
              0.5555555555555556,
              "#d8576b"
             ],
             [
              0.6666666666666666,
              "#ed7953"
             ],
             [
              0.7777777777777778,
              "#fb9f3a"
             ],
             [
              0.8888888888888888,
              "#fdca26"
             ],
             [
              1.0,
              "#f0f921"
             ]
            ],
            "type": "histogram2d"
           }
          ],
          "histogram2dcontour": [
           {
            "colorbar": {
             "outlinewidth": 0,
             "ticks": ""
            },
            "colorscale": [
             [
              0.0,
              "#0d0887"
             ],
             [
              0.1111111111111111,
              "#46039f"
             ],
             [
              0.2222222222222222,
              "#7201a8"
             ],
             [
              0.3333333333333333,
              "#9c179e"
             ],
             [
              0.4444444444444444,
              "#bd3786"
             ],
             [
              0.5555555555555556,
              "#d8576b"
             ],
             [
              0.6666666666666666,
              "#ed7953"
             ],
             [
              0.7777777777777778,
              "#fb9f3a"
             ],
             [
              0.8888888888888888,
              "#fdca26"
             ],
             [
              1.0,
              "#f0f921"
             ]
            ],
            "type": "histogram2dcontour"
           }
          ],
          "mesh3d": [
           {
            "colorbar": {
             "outlinewidth": 0,
             "ticks": ""
            },
            "type": "mesh3d"
           }
          ],
          "parcoords": [
           {
            "line": {
             "colorbar": {
              "outlinewidth": 0,
              "ticks": ""
             }
            },
            "type": "parcoords"
           }
          ],
          "pie": [
           {
            "automargin": true,
            "type": "pie"
           }
          ],
          "scatter": [
           {
            "marker": {
             "colorbar": {
              "outlinewidth": 0,
              "ticks": ""
             }
            },
            "type": "scatter"
           }
          ],
          "scatter3d": [
           {
            "line": {
             "colorbar": {
              "outlinewidth": 0,
              "ticks": ""
             }
            },
            "marker": {
             "colorbar": {
              "outlinewidth": 0,
              "ticks": ""
             }
            },
            "type": "scatter3d"
           }
          ],
          "scattercarpet": [
           {
            "marker": {
             "colorbar": {
              "outlinewidth": 0,
              "ticks": ""
             }
            },
            "type": "scattercarpet"
           }
          ],
          "scattergeo": [
           {
            "marker": {
             "colorbar": {
              "outlinewidth": 0,
              "ticks": ""
             }
            },
            "type": "scattergeo"
           }
          ],
          "scattergl": [
           {
            "marker": {
             "colorbar": {
              "outlinewidth": 0,
              "ticks": ""
             }
            },
            "type": "scattergl"
           }
          ],
          "scattermapbox": [
           {
            "marker": {
             "colorbar": {
              "outlinewidth": 0,
              "ticks": ""
             }
            },
            "type": "scattermapbox"
           }
          ],
          "scatterpolar": [
           {
            "marker": {
             "colorbar": {
              "outlinewidth": 0,
              "ticks": ""
             }
            },
            "type": "scatterpolar"
           }
          ],
          "scatterpolargl": [
           {
            "marker": {
             "colorbar": {
              "outlinewidth": 0,
              "ticks": ""
             }
            },
            "type": "scatterpolargl"
           }
          ],
          "scatterternary": [
           {
            "marker": {
             "colorbar": {
              "outlinewidth": 0,
              "ticks": ""
             }
            },
            "type": "scatterternary"
           }
          ],
          "surface": [
           {
            "colorbar": {
             "outlinewidth": 0,
             "ticks": ""
            },
            "colorscale": [
             [
              0.0,
              "#0d0887"
             ],
             [
              0.1111111111111111,
              "#46039f"
             ],
             [
              0.2222222222222222,
              "#7201a8"
             ],
             [
              0.3333333333333333,
              "#9c179e"
             ],
             [
              0.4444444444444444,
              "#bd3786"
             ],
             [
              0.5555555555555556,
              "#d8576b"
             ],
             [
              0.6666666666666666,
              "#ed7953"
             ],
             [
              0.7777777777777778,
              "#fb9f3a"
             ],
             [
              0.8888888888888888,
              "#fdca26"
             ],
             [
              1.0,
              "#f0f921"
             ]
            ],
            "type": "surface"
           }
          ],
          "table": [
           {
            "cells": {
             "fill": {
              "color": "#EBF0F8"
             },
             "line": {
              "color": "white"
             }
            },
            "header": {
             "fill": {
              "color": "#C8D4E3"
             },
             "line": {
              "color": "white"
             }
            },
            "type": "table"
           }
          ]
         },
         "layout": {
          "annotationdefaults": {
           "arrowcolor": "#2a3f5f",
           "arrowhead": 0,
           "arrowwidth": 1
          },
          "autotypenumbers": "strict",
          "coloraxis": {
           "colorbar": {
            "outlinewidth": 0,
            "ticks": ""
           }
          },
          "colorscale": {
           "diverging": [
            [
             0,
             "#8e0152"
            ],
            [
             0.1,
             "#c51b7d"
            ],
            [
             0.2,
             "#de77ae"
            ],
            [
             0.3,
             "#f1b6da"
            ],
            [
             0.4,
             "#fde0ef"
            ],
            [
             0.5,
             "#f7f7f7"
            ],
            [
             0.6,
             "#e6f5d0"
            ],
            [
             0.7,
             "#b8e186"
            ],
            [
             0.8,
             "#7fbc41"
            ],
            [
             0.9,
             "#4d9221"
            ],
            [
             1,
             "#276419"
            ]
           ],
           "sequential": [
            [
             0.0,
             "#0d0887"
            ],
            [
             0.1111111111111111,
             "#46039f"
            ],
            [
             0.2222222222222222,
             "#7201a8"
            ],
            [
             0.3333333333333333,
             "#9c179e"
            ],
            [
             0.4444444444444444,
             "#bd3786"
            ],
            [
             0.5555555555555556,
             "#d8576b"
            ],
            [
             0.6666666666666666,
             "#ed7953"
            ],
            [
             0.7777777777777778,
             "#fb9f3a"
            ],
            [
             0.8888888888888888,
             "#fdca26"
            ],
            [
             1.0,
             "#f0f921"
            ]
           ],
           "sequentialminus": [
            [
             0.0,
             "#0d0887"
            ],
            [
             0.1111111111111111,
             "#46039f"
            ],
            [
             0.2222222222222222,
             "#7201a8"
            ],
            [
             0.3333333333333333,
             "#9c179e"
            ],
            [
             0.4444444444444444,
             "#bd3786"
            ],
            [
             0.5555555555555556,
             "#d8576b"
            ],
            [
             0.6666666666666666,
             "#ed7953"
            ],
            [
             0.7777777777777778,
             "#fb9f3a"
            ],
            [
             0.8888888888888888,
             "#fdca26"
            ],
            [
             1.0,
             "#f0f921"
            ]
           ]
          },
          "colorway": [
           "#636efa",
           "#EF553B",
           "#00cc96",
           "#ab63fa",
           "#FFA15A",
           "#19d3f3",
           "#FF6692",
           "#B6E880",
           "#FF97FF",
           "#FECB52"
          ],
          "font": {
           "color": "#2a3f5f"
          },
          "geo": {
           "bgcolor": "white",
           "lakecolor": "white",
           "landcolor": "#E5ECF6",
           "showlakes": true,
           "showland": true,
           "subunitcolor": "white"
          },
          "hoverlabel": {
           "align": "left"
          },
          "hovermode": "closest",
          "mapbox": {
           "style": "light"
          },
          "paper_bgcolor": "white",
          "plot_bgcolor": "#E5ECF6",
          "polar": {
           "angularaxis": {
            "gridcolor": "white",
            "linecolor": "white",
            "ticks": ""
           },
           "bgcolor": "#E5ECF6",
           "radialaxis": {
            "gridcolor": "white",
            "linecolor": "white",
            "ticks": ""
           }
          },
          "scene": {
           "xaxis": {
            "backgroundcolor": "#E5ECF6",
            "gridcolor": "white",
            "gridwidth": 2,
            "linecolor": "white",
            "showbackground": true,
            "ticks": "",
            "zerolinecolor": "white"
           },
           "yaxis": {
            "backgroundcolor": "#E5ECF6",
            "gridcolor": "white",
            "gridwidth": 2,
            "linecolor": "white",
            "showbackground": true,
            "ticks": "",
            "zerolinecolor": "white"
           },
           "zaxis": {
            "backgroundcolor": "#E5ECF6",
            "gridcolor": "white",
            "gridwidth": 2,
            "linecolor": "white",
            "showbackground": true,
            "ticks": "",
            "zerolinecolor": "white"
           }
          },
          "shapedefaults": {
           "line": {
            "color": "#2a3f5f"
           }
          },
          "ternary": {
           "aaxis": {
            "gridcolor": "white",
            "linecolor": "white",
            "ticks": ""
           },
           "baxis": {
            "gridcolor": "white",
            "linecolor": "white",
            "ticks": ""
           },
           "bgcolor": "#E5ECF6",
           "caxis": {
            "gridcolor": "white",
            "linecolor": "white",
            "ticks": ""
           }
          },
          "title": {
           "x": 0.05
          },
          "xaxis": {
           "automargin": true,
           "gridcolor": "white",
           "linecolor": "white",
           "ticks": "",
           "title": {
            "standoff": 15
           },
           "zerolinecolor": "white",
           "zerolinewidth": 2
          },
          "yaxis": {
           "automargin": true,
           "gridcolor": "white",
           "linecolor": "white",
           "ticks": "",
           "title": {
            "standoff": 15
           },
           "zerolinecolor": "white",
           "zerolinewidth": 2
          }
         }
        }
       }
      },
      "text/html": "<div>                            <div id=\"532f3453-4fd7-4421-a4b5-e336239e5755\" class=\"plotly-graph-div\" style=\"height:525px; width:100%;\"></div>            <script type=\"text/javascript\">                require([\"plotly\"], function(Plotly) {                    window.PLOTLYENV=window.PLOTLYENV || {};                                    if (document.getElementById(\"532f3453-4fd7-4421-a4b5-e336239e5755\")) {                    Plotly.newPlot(                        \"532f3453-4fd7-4421-a4b5-e336239e5755\",                        [{\"hovertemplate\": \"scaled_x=%{x}<br>scaled_y=%{y}<br>scaled_z=%{z}<extra></extra>\", \"legendgroup\": \"\", \"marker\": {\"color\": \"#636efa\", \"size\": 3, \"symbol\": \"circle\"}, \"mode\": \"markers\", \"name\": \"\", \"scene\": \"scene\", \"showlegend\": false, \"type\": \"scatter3d\", \"x\": [403.38867189999996, 338.31054689999996, 272.75390627499996, 201.93359375, 300.50781255, 206.71875005, 221.55273440000002, 207.67578125, 297.63671875, 304.81445315, 268.9257813, 367.02148439999996, 366.5429688, 276.58203125, 95.2246094, 191.88476565, 267.01171875, 140.6835938, 203.36914065, 321.5625, 379.46289064999996, 260.79101564999996, 222.03125, 283.28125005, 274.18945315, 217.24609379999998, 173.2226563, 279.45312505, 281.36718755, 216.28906254999998, 243.56445315000002, 311.9921875, 285.19531255, 238.30078125, 127.763671875, 198.10546875, 103.83789064999999, 121.064453125, 287.58789065, 419.65820314999996, 270.83984375, 341.18164064999996, 416.78710939999996, 351.70898439999996, 179.4433594, 301.4648438, 296.20117189999996, 286.1523438, 160.78125, 239.25781254999998], \"y\": [91.30859375, 56.640625, 32.71484375, 256.8359375, 213.37890625, 229.98046875, 183.10546875, 176.26953125, 226.07421875, 234.86328125, 237.3046875, 278.80859375, 175.29296875, 109.375, 254.39453125, 252.9296875, 92.7734375, 92.7734375, 96.6796875, 228.515625, 306.15234375, 228.02734375, 219.23828125, 342.7734375, 285.15625, 134.27734375, 169.921875, 219.23828125, 135.7421875, 322.75390625, 369.140625, 333.49609375, 182.6171875, 221.19140625, 327.63671875, 164.55078125, 338.37890625, 165.52734375, 215.33203125, 212.890625, 220.21484375, 373.046875, 386.71875, 224.609375, 350.09765625, 351.5625, 248.046875, 260.7421875, 294.921875, 308.10546875], \"z\": [243.8203125, 267.4921875, 203.578125, 203.578125, 179.90625, 165.703125, 203.578125, 163.3359375, 160.96875, 125.4609375, 303.0, 303.0, 127.828125, 137.296875, 303.0, 303.0, 286.4296875, 286.4296875, 18.9375, 272.2265625, 241.453125, 151.5, 142.03125, 123.09375, 123.09375, 168.0703125, 111.2578125, 111.2578125, 170.4375, 89.953125, 92.3203125, 139.6640625, 208.3125, 231.984375, 149.1328125, 172.8046875, 115.9921875, 291.1640625, 11.8359375, 2.3671875, 89.953125, 11.8359375, 127.828125, 156.234375, 187.0078125, 203.578125, 303.0, 172.8046875, 118.359375, 132.5625]}, {\"marker\": {\"size\": 3}, \"mode\": \"markers\", \"name\": \"blood-vessels\", \"type\": \"scatter3d\", \"x\": [342.13867189999996, 287.109375, 445.49804689999996, 391.42578125, 414.87304689999996, 193.79882815000002, 235.90820315000002, 212.93945315000002, 465.59570314999996, 424.44335939999996, 271.31835939999996, 341.6601563, 277.53906255, 398.125, 156.47460940000002, 373.24218755, 438.3203125, 159.34570315000002, 281.3671875, 266.53320314999996, 312.47070314999996, 227.29492190000002, 171.30859375, 206.24023440000002, 296.20117189999996, 253.13476565, 238.77929690000002, 296.67968755, 160.30273440000002, 162.21679690000002, 221.07421875, 257.9199219, 109.58007814999999, 338.31054689999996, 162.6953125, 250.7421875, 97.6171875, 161.25976565000002, 382.33398439999996, 432.57812505, 270.83984375, 317.25585939999996, 436.40625, 433.05664064999996, 339.7460938, 318.21289064999996, 325.86914064999996, 278.4960938, 251.69921875, 335.43945314999996, 222.98828125, 200.49804690000002, 245.0, 236.38671875, 190.4492188, 149.296875, 247.87109379999998, 383.7695313, 448.36914064999996, 467.03125005, 197.62695315000002, 87.08984377499999, 219.63867190000002, 236.3867188, 174.17968755, 189.01367190000002, 85.17578125, 461.2890625, 302.42187505, 310.55664064999996, 430.6640625, 218.203125, 125.37109380000001, 272.7539063, 154.56054690000002, 115.322265625, 213.4179688, 360.80078125, 354.10156255, 477.08007814999996, 178.0078125, 212.46093755, 232.5585938, 209.58984375, 387.11914064999996, 202.89062505, 340.22460939999996, 46.416015625, 299.07226564999996, 370.84960939999996, 289.9804688, 72.255859375, 56.46484375, 365.10742189999996, 14.35546875, 43.544921875, 15.791015625, 433.53515625, 256.96289065, 178.48632815000002, 194.75585940000002, 288.0664063, 284.71679689999996, 183.27148440000002, 444.06250005, 272.7539063, 343.09570314999996, 471.81640625, 138.76953125, 137.81250005, 91.875, 133.984375, 194.27734375, 28.7109375, 42.109375, 158.8671875, 140.68359375, 329.69726564999996, 77.51953125, 351.23046875, 236.38671875, 268.92578125, 362.71484375, 126.328125, 13.876953125, 119.6289063, 230.16601565000002, 149.29687505, 103.35937502499999, 112.929687525, 112.92968755, 309.1210938, 71.77734375, 311.51367189999996, 431.6210938, 406.73828125, 356.49414064999996, 275.625, 186.14257815000002, 197.1484375, 194.75585940000002, 309.12109375, 424.44335939999996, 143.5546875, 329.21875005, 254.57031254999998, 217.72460940000002, 128.2421875, 334.48242189999996, 26.318359375, 254.5703125, 232.55859375, 377.54882814999996, 367.02148439999996, 385.6835938, 180.40039065000002, 463.203125, 209.5898438, 430.18554689999996, 7.177734375, 126.328125, 264.61914064999996, 199.06250005, 334.9609375, 55.986328125, 278.01757814999996, 99.53125002499999, 279.93164064999996, 96.181640625, 367.5, 276.10351564999996, 359.84375, 157.43164065000002, 428.27148439999996, 410.08789064999996, 248.34960940000002, 310.55664064999996, 124.89257815, 184.22851565000002, 206.24023440000002, 135.41992190000002, 469.42382814999996, 153.60351565000002, 413.91601564999996, 109.58007814999999, 83.740234375, 220.59570315000002, 423.48632814999996, 18.662109375, 462.24609375, 304.33593755, 168.91601565000002, 96.181640625, 147.38281255, 423.96484375, 87.08984375, 424.921875, 234.4726563, 117.23632814999999, 393.3398438, 467.50976564999996, 117.23632814999999, 162.21679690000002, 66.513671875, 26.796875, 328.26171875, 118.19335939999999, 372.76367189999996, 223.9453125, 386.16210939999996, 23.92578125, 386.640625, 161.73828125, 188.5351563, 126.328125, 246.91406254999998, 226.33789065000002, 84.21875, 408.17382814999996, 175.61523440000002, 471.33789064999996, 322.99804689999996, 50.72265625, 378.02734375, 267.4902344, 116.7578125, 289.9804688, 97.138671875, 301.4648438, 104.31640625, 75.60546875, 116.27929689999999, 71.298828125, 128.24218755, 373.24218755, 258.39843755, 142.11914065000002, 354.58007814999996, 382.33398439999996, 135.8984375, 419.65820314999996, 350.2734375, 378.0273438, 198.1054688, 196.19140625, 208.6328125, 214.85351565000002, 63.642578125, 58.37890625, 291.41601564999996, 345.96679689999996, 141.1621094, 121.06445315, 152.64648440000002, 228.25195315000002, 74.169921875, 378.50585939999996, 53.115234375, 169.39453125, 296.6796875, 75.126953125, 423.9648438, 224.9023438, 370.37109375, 38.28125, 134.9414063, 134.94140625, 392.3828125, 386.640625, 123.45703130000001, 273.23242189999996, 243.56445315000002, 8.134765625, 19.140625, 383.29101564999996, 357.9296875, 415.3515625, 51.6796875, 431.14257814999996, 356.97265625, 108.14453125, 109.58007814999999, 107.666015625, 181.35742190000002, 369.4140625, 322.5195313, 393.33984375, 250.2636719, 25.83984375, 66.9921875, 35.41015625, 347.40234375, 286.15234375, 325.39062505, 277.53906255, 77.998046875, 378.0273438, 257.4414063, 132.07031255, 217.72460940000002, 43.544921875, 102.40234375, 71.298828125, 283.28125, 234.95117190000002, 252.17773440000002, 262.2265625, 46.89453125, 83.740234375, 150.25390625, 27.275390625, 91.875, 35.41015625, 11.484375, 17.2265625, 337.35351564999996, 325.390625, 75.60546875, 267.0117188, 189.4921875, 315.82031255, 137.33398440000002, 291.41601564999996, 340.22460939999996, 159.8242188, 377.54882814999996, 472.77343755, 142.11914065000002, 30.146484375, 452.19726564999996, 407.21679689999996, 154.56054690000002, 30.625, 11.962890625, 421.09375005, 100.966796875, 292.8515625, 416.78710939999996, 67.94921877499999, 298.11523439999996, 384.24804689999996, 179.92187505, 395.25390625, 207.19726565000002, 34.931640625, 257.9199219, 386.64062505, 289.02343755, 95.70312502499999, 446.9335938, 279.93164064999996, 360.8007813, 50.244140625, 121.5429688, 430.66406255, 188.53515625, 474.20898439999996, 473.73046875, 270.83984375, 48.330078125, 216.2890625, 197.14843755, 235.42968755, 270.36132814999996, 311.51367189999996, 12.919921875, 171.78710940000002, 32.060546875, 93.310546875, 449.32617189999996, 235.90820315000002, 441.66992189999996, 207.6757813, 84.697265625, 175.1367188, 30.625, 394.29687505, 465.59570314999996, 248.3496094, 77.51953125, 431.62109375, 388.55468755, 15.3125, 397.1679688, 296.6796875, 173.70117190000002, 21.533203125, 241.171875, 311.03515625, 20.09765625, 66.513671875, 260.3125, 326.34765625, 274.18945314999996, 345.48828125, 430.18554689999996, 303.37890625, 279.453125, 310.55664064999996, 109.1015625, 434.97070314999996, 222.03125005, 465.11718755, 446.9335938, 404.34570314999996, 383.29101564999996, 221.0742188, 132.07031255, 34.931640625, 362.23632814999996, 253.13476565000002, 72.73437502499999, 69.86328125, 43.544921875, 56.46484375, 45.9375, 78.955078125, 54.55078125, 400.99609375, 280.41015625, 279.93164064999996, 298.11523439999996, 407.69531255, 383.29101564999996, 95.70312502499999], \"y\": [23.4375, 25.390625, 26.3671875, 39.0625, 46.38671875, 47.8515625, 50.78125, 57.6171875, 53.7109375, 112.79296875, 103.02734375, 131.34765625, 154.78515625, 155.76171875, 156.73828125, 157.71484375, 166.50390625, 177.734375, 187.01171875, 189.94140625, 190.91796875, 191.40625, 199.21875, 207.03125, 208.49609375, 218.26171875, 224.12109375, 231.4453125, 237.3046875, 250.9765625, 254.39453125, 260.7421875, 262.6953125, 216.30859375, 273.4375, 300.29296875, 307.12890625, 310.05859375, 348.6328125, 349.12109375, 385.25390625, 393.06640625, 406.25, 424.31640625, 456.54296875, 467.28515625, 485.83984375, 487.79296875, 488.76953125, 494.62890625, 28.3203125, 28.3203125, 88.37890625, 339.35546875, 390.13671875, 188.4765625, 375.0, 385.25390625, 417.48046875, 122.55859375, 152.83203125, 167.48046875, 448.2421875, 320.3125, 416.015625, 417.48046875, 86.42578125, 99.609375, 393.5546875, 25.87890625, 232.421875, 299.8046875, 344.23828125, 366.69921875, 371.09375, 229.00390625, 319.82421875, 390.625, 417.96875, 183.59375, 337.40234375, 344.23828125, 361.328125, 381.34765625, 413.0859375, 20.99609375, 375.48828125, 81.0546875, 163.57421875, 245.60546875, 270.99609375, 347.65625, 386.23046875, 38.57421875, 59.5703125, 65.91796875, 79.1015625, 196.2890625, 253.90625, 291.015625, 309.08203125, 423.828125, 450.1953125, 69.3359375, 134.27734375, 144.53125, 251.953125, 337.40234375, 436.5234375, 450.1953125, 67.3828125, 91.796875, 104.98046875, 267.578125, 413.57421875, 155.76171875, 156.73828125, 170.41015625, 213.37890625, 232.91015625, 256.34765625, 335.9375, 362.3046875, 375.9765625, 423.33984375, 427.734375, 31.25, 170.41015625, 171.38671875, 262.6953125, 408.69140625, 467.7734375, 16.6015625, 115.234375, 131.8359375, 133.30078125, 186.5234375, 214.84375, 218.26171875, 268.5546875, 289.55078125, 364.2578125, 408.203125, 423.33984375, 426.7578125, 54.19921875, 63.96484375, 202.1484375, 337.890625, 354.98046875, 387.20703125, 397.4609375, 45.8984375, 51.26953125, 185.05859375, 267.08984375, 268.5546875, 294.921875, 295.8984375, 308.59375, 326.171875, 491.2109375, 80.56640625, 136.71875, 314.453125, 320.80078125, 331.0546875, 341.796875, 347.16796875, 350.5859375, 356.4453125, 381.34765625, 409.66796875, 458.984375, 488.28125, 41.50390625, 144.04296875, 342.7734375, 343.75, 356.4453125, 54.19921875, 415.52734375, 17.578125, 313.96484375, 319.82421875, 434.08203125, 458.0078125, 66.40625, 110.3515625, 198.73046875, 333.49609375, 346.6796875, 454.58984375, 456.54296875, 470.703125, 480.46875, 490.72265625, 492.67578125, 329.58984375, 391.6015625, 454.58984375, 45.8984375, 133.7890625, 155.76171875, 169.921875, 260.7421875, 288.0859375, 314.453125, 112.79296875, 135.25390625, 390.13671875, 406.25, 435.546875, 35.64453125, 99.12109375, 331.0546875, 335.44921875, 352.05078125, 375.0, 415.0390625, 479.00390625, 99.12109375, 291.9921875, 295.41015625, 439.94140625, 17.08984375, 18.06640625, 121.09375, 126.46484375, 419.43359375, 145.99609375, 217.28515625, 342.7734375, 176.7578125, 182.6171875, 241.69921875, 322.265625, 326.66015625, 391.6015625, 18.06640625, 88.37890625, 220.21484375, 223.14453125, 273.4375, 311.03515625, 421.38671875, 10.7421875, 23.4375, 56.15234375, 292.96875, 360.83984375, 423.33984375, 65.91796875, 109.375, 229.4921875, 243.65234375, 275.390625, 340.8203125, 236.328125, 388.671875, 464.84375, 166.50390625, 173.828125, 224.609375, 260.25390625, 280.76171875, 404.78515625, 27.34375, 68.359375, 107.91015625, 176.26953125, 205.078125, 385.25390625, 407.2265625, 486.328125, 490.234375, 115.72265625, 312.98828125, 363.76953125, 399.90234375, 185.546875, 292.48046875, 353.02734375, 395.99609375, 122.55859375, 237.3046875, 458.49609375, 470.21484375, 291.50390625, 325.1953125, 327.63671875, 476.07421875, 481.4453125, 489.74609375, 353.515625, 373.046875, 376.953125, 424.8046875, 117.67578125, 247.55859375, 368.65234375, 464.35546875, 78.125, 224.609375, 271.97265625, 13.18359375, 45.41015625, 92.7734375, 273.92578125, 301.26953125, 343.75, 434.5703125, 442.3828125, 365.72265625, 38.57421875, 296.875, 311.5234375, 38.0859375, 119.62890625, 205.078125, 223.6328125, 43.9453125, 83.0078125, 97.65625, 165.0390625, 245.1171875, 448.73046875, 151.3671875, 218.75, 291.50390625, 426.7578125, 78.125, 97.65625, 227.05078125, 292.96875, 363.76953125, 385.25390625, 133.7890625, 212.40234375, 31.25, 105.46875, 355.46875, 125.9765625, 186.03515625, 459.47265625, 470.703125, 233.3984375, 47.36328125, 51.26953125, 92.7734375, 159.66796875, 209.47265625, 484.375, 131.34765625, 141.11328125, 130.859375, 132.32421875, 156.25, 190.4296875, 491.2109375, 77.1484375, 98.14453125, 14.6484375, 51.26953125, 170.41015625, 216.30859375, 402.83203125, 253.41796875, 315.4296875, 438.4765625, 448.73046875, 110.3515625, 224.12109375, 329.1015625, 43.45703125, 106.4453125, 283.69140625, 392.08984375, 420.8984375, 104.00390625, 385.25390625, 155.2734375, 81.0546875, 214.35546875, 260.7421875, 68.84765625, 16.6015625, 77.1484375, 126.46484375, 486.81640625, 487.79296875, 180.17578125, 276.85546875, 364.2578125, 198.2421875, 127.44140625, 230.46875, 210.9375, 215.8203125, 386.23046875, 186.03515625, 424.8046875, 74.21875, 406.73828125, 55.17578125, 66.40625, 375.9765625, 375.48828125, 424.8046875, 272.94921875, 208.0078125, 18.06640625, 407.2265625, 180.17578125, 440.4296875, 457.03125, 117.1875, 176.26953125, 185.05859375, 198.73046875, 239.74609375, 248.53515625, 289.55078125, 315.91796875, 401.85546875], \"z\": [2.3671875, 2.3671875, 2.3671875, 2.3671875, 2.3671875, 2.3671875, 2.3671875, 2.3671875, 2.3671875, 2.3671875, 2.3671875, 2.3671875, 2.3671875, 2.3671875, 2.3671875, 2.3671875, 2.3671875, 2.3671875, 2.3671875, 2.3671875, 2.3671875, 2.3671875, 2.3671875, 2.3671875, 2.3671875, 2.3671875, 2.3671875, 2.3671875, 2.3671875, 2.3671875, 2.3671875, 2.3671875, 2.3671875, 2.3671875, 2.3671875, 2.3671875, 2.3671875, 2.3671875, 2.3671875, 2.3671875, 2.3671875, 2.3671875, 2.3671875, 2.3671875, 2.3671875, 2.3671875, 2.3671875, 2.3671875, 2.3671875, 2.3671875, 4.734375, 7.1015625, 7.1015625, 7.1015625, 7.1015625, 9.46875, 9.46875, 9.46875, 9.46875, 11.8359375, 11.8359375, 11.8359375, 11.8359375, 14.203125, 14.203125, 14.203125, 16.5703125, 16.5703125, 16.5703125, 18.9375, 18.9375, 18.9375, 18.9375, 18.9375, 18.9375, 21.3046875, 21.3046875, 21.3046875, 21.3046875, 23.671875, 23.671875, 23.671875, 23.671875, 23.671875, 23.671875, 26.0390625, 26.0390625, 28.40625, 28.40625, 28.40625, 28.40625, 28.40625, 28.40625, 30.7734375, 30.7734375, 30.7734375, 30.7734375, 30.7734375, 30.7734375, 30.7734375, 30.7734375, 30.7734375, 30.7734375, 33.140625, 33.140625, 33.140625, 33.140625, 33.140625, 33.140625, 33.140625, 35.5078125, 35.5078125, 35.5078125, 35.5078125, 35.5078125, 37.875, 37.875, 37.875, 37.875, 37.875, 37.875, 37.875, 37.875, 37.875, 37.875, 37.875, 40.2421875, 40.2421875, 33.140625, 40.2421875, 40.2421875, 40.2421875, 42.609375, 42.609375, 42.609375, 42.609375, 42.609375, 42.609375, 42.609375, 42.609375, 42.609375, 42.609375, 42.609375, 42.609375, 42.609375, 44.9765625, 44.9765625, 44.9765625, 44.9765625, 44.9765625, 44.9765625, 44.9765625, 47.34375, 47.34375, 47.34375, 47.34375, 47.34375, 47.34375, 47.34375, 47.34375, 47.34375, 47.34375, 49.7109375, 49.7109375, 49.7109375, 49.7109375, 49.7109375, 49.7109375, 49.7109375, 49.7109375, 49.7109375, 49.7109375, 49.7109375, 49.7109375, 49.7109375, 52.078125, 52.078125, 52.078125, 52.078125, 52.078125, 54.4453125, 54.4453125, 56.8125, 56.8125, 56.8125, 56.8125, 56.8125, 59.1796875, 59.1796875, 59.1796875, 59.1796875, 59.1796875, 59.1796875, 59.1796875, 59.1796875, 59.1796875, 59.1796875, 59.1796875, 61.546875, 61.546875, 61.546875, 63.9140625, 63.9140625, 63.9140625, 63.9140625, 63.9140625, 63.9140625, 63.9140625, 66.28125, 66.28125, 66.28125, 66.28125, 66.28125, 68.6484375, 68.6484375, 68.6484375, 68.6484375, 68.6484375, 68.6484375, 68.6484375, 68.6484375, 71.015625, 71.015625, 71.015625, 71.015625, 73.3828125, 73.3828125, 73.3828125, 73.3828125, 73.3828125, 75.75, 75.75, 75.75, 78.1171875, 78.1171875, 78.1171875, 78.1171875, 78.1171875, 78.1171875, 80.484375, 80.484375, 80.484375, 80.484375, 80.484375, 80.484375, 80.484375, 82.8515625, 82.8515625, 82.8515625, 82.8515625, 82.8515625, 82.8515625, 85.21875, 85.21875, 85.21875, 85.21875, 85.21875, 85.21875, 87.5859375, 87.5859375, 87.5859375, 89.953125, 89.953125, 89.953125, 89.953125, 89.953125, 89.953125, 92.3203125, 92.3203125, 92.3203125, 92.3203125, 61.546875, 92.3203125, 92.3203125, 92.3203125, 92.3203125, 94.6875, 94.6875, 94.6875, 94.6875, 97.0546875, 97.0546875, 97.0546875, 97.0546875, 99.421875, 99.421875, 99.421875, 99.421875, 101.7890625, 101.7890625, 101.7890625, 101.7890625, 101.7890625, 101.7890625, 104.15625, 104.15625, 104.15625, 104.15625, 106.5234375, 106.5234375, 106.5234375, 106.5234375, 108.890625, 108.890625, 108.890625, 111.2578125, 111.2578125, 111.2578125, 111.2578125, 111.2578125, 111.2578125, 111.2578125, 111.2578125, 113.625, 115.9921875, 115.9921875, 115.9921875, 118.359375, 118.359375, 118.359375, 118.359375, 120.7265625, 120.7265625, 120.7265625, 120.7265625, 120.7265625, 120.7265625, 123.09375, 123.09375, 123.09375, 123.09375, 125.4609375, 125.4609375, 125.4609375, 125.4609375, 125.4609375, 125.4609375, 127.828125, 127.828125, 130.1953125, 130.1953125, 130.1953125, 132.5625, 132.5625, 132.5625, 132.5625, 134.9296875, 137.296875, 137.296875, 137.296875, 137.296875, 137.296875, 137.296875, 139.6640625, 139.6640625, 142.03125, 142.03125, 142.03125, 142.03125, 142.03125, 144.3984375, 144.3984375, 146.765625, 151.5, 149.1328125, 149.1328125, 149.1328125, 151.5, 151.5, 151.5, 151.5, 153.8671875, 153.8671875, 153.8671875, 156.234375, 156.234375, 156.234375, 156.234375, 156.234375, 158.6015625, 158.6015625, 160.96875, 163.3359375, 163.3359375, 163.3359375, 165.703125, 168.0703125, 170.4375, 170.4375, 170.4375, 170.4375, 172.8046875, 172.8046875, 172.8046875, 175.171875, 182.2734375, 184.640625, 187.0078125, 187.0078125, 187.0078125, 189.375, 189.375, 191.7421875, 198.84375, 203.578125, 203.578125, 205.9453125, 220.1484375, 229.6171875, 231.984375, 234.3515625, 236.71875, 255.65625, 267.4921875, 288.796875, 293.53125, 303.0, 303.0, 303.0, 303.0, 303.0, 303.0, 303.0, 303.0, 303.0]}],                        {\"legend\": {\"tracegroupgap\": 0}, \"margin\": {\"t\": 60}, \"scene\": {\"domain\": {\"x\": [0.0, 1.0], \"y\": [0.0, 1.0]}, \"xaxis\": {\"title\": {\"text\": \"scaled_x\"}}, \"yaxis\": {\"title\": {\"text\": \"scaled_y\"}}, \"zaxis\": {\"title\": {\"text\": \"scaled_z\"}}}, \"template\": {\"data\": {\"bar\": [{\"error_x\": {\"color\": \"#2a3f5f\"}, \"error_y\": {\"color\": \"#2a3f5f\"}, \"marker\": {\"line\": {\"color\": \"#E5ECF6\", \"width\": 0.5}}, \"type\": \"bar\"}], \"barpolar\": [{\"marker\": {\"line\": {\"color\": \"#E5ECF6\", \"width\": 0.5}}, \"type\": \"barpolar\"}], \"carpet\": [{\"aaxis\": {\"endlinecolor\": \"#2a3f5f\", \"gridcolor\": \"white\", \"linecolor\": \"white\", \"minorgridcolor\": \"white\", \"startlinecolor\": \"#2a3f5f\"}, \"baxis\": {\"endlinecolor\": \"#2a3f5f\", \"gridcolor\": \"white\", \"linecolor\": \"white\", \"minorgridcolor\": \"white\", \"startlinecolor\": \"#2a3f5f\"}, \"type\": \"carpet\"}], \"choropleth\": [{\"colorbar\": {\"outlinewidth\": 0, \"ticks\": \"\"}, \"type\": \"choropleth\"}], \"contour\": [{\"colorbar\": {\"outlinewidth\": 0, \"ticks\": \"\"}, \"colorscale\": [[0.0, \"#0d0887\"], [0.1111111111111111, \"#46039f\"], [0.2222222222222222, \"#7201a8\"], [0.3333333333333333, \"#9c179e\"], [0.4444444444444444, \"#bd3786\"], [0.5555555555555556, \"#d8576b\"], [0.6666666666666666, \"#ed7953\"], [0.7777777777777778, \"#fb9f3a\"], [0.8888888888888888, \"#fdca26\"], [1.0, \"#f0f921\"]], \"type\": \"contour\"}], \"contourcarpet\": [{\"colorbar\": {\"outlinewidth\": 0, \"ticks\": \"\"}, \"type\": \"contourcarpet\"}], \"heatmap\": [{\"colorbar\": {\"outlinewidth\": 0, \"ticks\": \"\"}, \"colorscale\": [[0.0, \"#0d0887\"], [0.1111111111111111, \"#46039f\"], [0.2222222222222222, \"#7201a8\"], [0.3333333333333333, \"#9c179e\"], [0.4444444444444444, \"#bd3786\"], [0.5555555555555556, \"#d8576b\"], [0.6666666666666666, \"#ed7953\"], [0.7777777777777778, \"#fb9f3a\"], [0.8888888888888888, \"#fdca26\"], [1.0, \"#f0f921\"]], \"type\": \"heatmap\"}], \"heatmapgl\": [{\"colorbar\": {\"outlinewidth\": 0, \"ticks\": \"\"}, \"colorscale\": [[0.0, \"#0d0887\"], [0.1111111111111111, \"#46039f\"], [0.2222222222222222, \"#7201a8\"], [0.3333333333333333, \"#9c179e\"], [0.4444444444444444, \"#bd3786\"], [0.5555555555555556, \"#d8576b\"], [0.6666666666666666, \"#ed7953\"], [0.7777777777777778, \"#fb9f3a\"], [0.8888888888888888, \"#fdca26\"], [1.0, \"#f0f921\"]], \"type\": \"heatmapgl\"}], \"histogram\": [{\"marker\": {\"colorbar\": {\"outlinewidth\": 0, \"ticks\": \"\"}}, \"type\": \"histogram\"}], \"histogram2d\": [{\"colorbar\": {\"outlinewidth\": 0, \"ticks\": \"\"}, \"colorscale\": [[0.0, \"#0d0887\"], [0.1111111111111111, \"#46039f\"], [0.2222222222222222, \"#7201a8\"], [0.3333333333333333, \"#9c179e\"], [0.4444444444444444, \"#bd3786\"], [0.5555555555555556, \"#d8576b\"], [0.6666666666666666, \"#ed7953\"], [0.7777777777777778, \"#fb9f3a\"], [0.8888888888888888, \"#fdca26\"], [1.0, \"#f0f921\"]], \"type\": \"histogram2d\"}], \"histogram2dcontour\": [{\"colorbar\": {\"outlinewidth\": 0, \"ticks\": \"\"}, \"colorscale\": [[0.0, \"#0d0887\"], [0.1111111111111111, \"#46039f\"], [0.2222222222222222, \"#7201a8\"], [0.3333333333333333, \"#9c179e\"], [0.4444444444444444, \"#bd3786\"], [0.5555555555555556, \"#d8576b\"], [0.6666666666666666, \"#ed7953\"], [0.7777777777777778, \"#fb9f3a\"], [0.8888888888888888, \"#fdca26\"], [1.0, \"#f0f921\"]], \"type\": \"histogram2dcontour\"}], \"mesh3d\": [{\"colorbar\": {\"outlinewidth\": 0, \"ticks\": \"\"}, \"type\": \"mesh3d\"}], \"parcoords\": [{\"line\": {\"colorbar\": {\"outlinewidth\": 0, \"ticks\": \"\"}}, \"type\": \"parcoords\"}], \"pie\": [{\"automargin\": true, \"type\": \"pie\"}], \"scatter\": [{\"marker\": {\"colorbar\": {\"outlinewidth\": 0, \"ticks\": \"\"}}, \"type\": \"scatter\"}], \"scatter3d\": [{\"line\": {\"colorbar\": {\"outlinewidth\": 0, \"ticks\": \"\"}}, \"marker\": {\"colorbar\": {\"outlinewidth\": 0, \"ticks\": \"\"}}, \"type\": \"scatter3d\"}], \"scattercarpet\": [{\"marker\": {\"colorbar\": {\"outlinewidth\": 0, \"ticks\": \"\"}}, \"type\": \"scattercarpet\"}], \"scattergeo\": [{\"marker\": {\"colorbar\": {\"outlinewidth\": 0, \"ticks\": \"\"}}, \"type\": \"scattergeo\"}], \"scattergl\": [{\"marker\": {\"colorbar\": {\"outlinewidth\": 0, \"ticks\": \"\"}}, \"type\": \"scattergl\"}], \"scattermapbox\": [{\"marker\": {\"colorbar\": {\"outlinewidth\": 0, \"ticks\": \"\"}}, \"type\": \"scattermapbox\"}], \"scatterpolar\": [{\"marker\": {\"colorbar\": {\"outlinewidth\": 0, \"ticks\": \"\"}}, \"type\": \"scatterpolar\"}], \"scatterpolargl\": [{\"marker\": {\"colorbar\": {\"outlinewidth\": 0, \"ticks\": \"\"}}, \"type\": \"scatterpolargl\"}], \"scatterternary\": [{\"marker\": {\"colorbar\": {\"outlinewidth\": 0, \"ticks\": \"\"}}, \"type\": \"scatterternary\"}], \"surface\": [{\"colorbar\": {\"outlinewidth\": 0, \"ticks\": \"\"}, \"colorscale\": [[0.0, \"#0d0887\"], [0.1111111111111111, \"#46039f\"], [0.2222222222222222, \"#7201a8\"], [0.3333333333333333, \"#9c179e\"], [0.4444444444444444, \"#bd3786\"], [0.5555555555555556, \"#d8576b\"], [0.6666666666666666, \"#ed7953\"], [0.7777777777777778, \"#fb9f3a\"], [0.8888888888888888, \"#fdca26\"], [1.0, \"#f0f921\"]], \"type\": \"surface\"}], \"table\": [{\"cells\": {\"fill\": {\"color\": \"#EBF0F8\"}, \"line\": {\"color\": \"white\"}}, \"header\": {\"fill\": {\"color\": \"#C8D4E3\"}, \"line\": {\"color\": \"white\"}}, \"type\": \"table\"}]}, \"layout\": {\"annotationdefaults\": {\"arrowcolor\": \"#2a3f5f\", \"arrowhead\": 0, \"arrowwidth\": 1}, \"autotypenumbers\": \"strict\", \"coloraxis\": {\"colorbar\": {\"outlinewidth\": 0, \"ticks\": \"\"}}, \"colorscale\": {\"diverging\": [[0, \"#8e0152\"], [0.1, \"#c51b7d\"], [0.2, \"#de77ae\"], [0.3, \"#f1b6da\"], [0.4, \"#fde0ef\"], [0.5, \"#f7f7f7\"], [0.6, \"#e6f5d0\"], [0.7, \"#b8e186\"], [0.8, \"#7fbc41\"], [0.9, \"#4d9221\"], [1, \"#276419\"]], \"sequential\": [[0.0, \"#0d0887\"], [0.1111111111111111, \"#46039f\"], [0.2222222222222222, \"#7201a8\"], [0.3333333333333333, \"#9c179e\"], [0.4444444444444444, \"#bd3786\"], [0.5555555555555556, \"#d8576b\"], [0.6666666666666666, \"#ed7953\"], [0.7777777777777778, \"#fb9f3a\"], [0.8888888888888888, \"#fdca26\"], [1.0, \"#f0f921\"]], \"sequentialminus\": [[0.0, \"#0d0887\"], [0.1111111111111111, \"#46039f\"], [0.2222222222222222, \"#7201a8\"], [0.3333333333333333, \"#9c179e\"], [0.4444444444444444, \"#bd3786\"], [0.5555555555555556, \"#d8576b\"], [0.6666666666666666, \"#ed7953\"], [0.7777777777777778, \"#fb9f3a\"], [0.8888888888888888, \"#fdca26\"], [1.0, \"#f0f921\"]]}, \"colorway\": [\"#636efa\", \"#EF553B\", \"#00cc96\", \"#ab63fa\", \"#FFA15A\", \"#19d3f3\", \"#FF6692\", \"#B6E880\", \"#FF97FF\", \"#FECB52\"], \"font\": {\"color\": \"#2a3f5f\"}, \"geo\": {\"bgcolor\": \"white\", \"lakecolor\": \"white\", \"landcolor\": \"#E5ECF6\", \"showlakes\": true, \"showland\": true, \"subunitcolor\": \"white\"}, \"hoverlabel\": {\"align\": \"left\"}, \"hovermode\": \"closest\", \"mapbox\": {\"style\": \"light\"}, \"paper_bgcolor\": \"white\", \"plot_bgcolor\": \"#E5ECF6\", \"polar\": {\"angularaxis\": {\"gridcolor\": \"white\", \"linecolor\": \"white\", \"ticks\": \"\"}, \"bgcolor\": \"#E5ECF6\", \"radialaxis\": {\"gridcolor\": \"white\", \"linecolor\": \"white\", \"ticks\": \"\"}}, \"scene\": {\"xaxis\": {\"backgroundcolor\": \"#E5ECF6\", \"gridcolor\": \"white\", \"gridwidth\": 2, \"linecolor\": \"white\", \"showbackground\": true, \"ticks\": \"\", \"zerolinecolor\": \"white\"}, \"yaxis\": {\"backgroundcolor\": \"#E5ECF6\", \"gridcolor\": \"white\", \"gridwidth\": 2, \"linecolor\": \"white\", \"showbackground\": true, \"ticks\": \"\", \"zerolinecolor\": \"white\"}, \"zaxis\": {\"backgroundcolor\": \"#E5ECF6\", \"gridcolor\": \"white\", \"gridwidth\": 2, \"linecolor\": \"white\", \"showbackground\": true, \"ticks\": \"\", \"zerolinecolor\": \"white\"}}, \"shapedefaults\": {\"line\": {\"color\": \"#2a3f5f\"}}, \"ternary\": {\"aaxis\": {\"gridcolor\": \"white\", \"linecolor\": \"white\", \"ticks\": \"\"}, \"baxis\": {\"gridcolor\": \"white\", \"linecolor\": \"white\", \"ticks\": \"\"}, \"bgcolor\": \"#E5ECF6\", \"caxis\": {\"gridcolor\": \"white\", \"linecolor\": \"white\", \"ticks\": \"\"}}, \"title\": {\"x\": 0.05}, \"xaxis\": {\"automargin\": true, \"gridcolor\": \"white\", \"linecolor\": \"white\", \"ticks\": \"\", \"title\": {\"standoff\": 15}, \"zerolinecolor\": \"white\", \"zerolinewidth\": 2}, \"yaxis\": {\"automargin\": true, \"gridcolor\": \"white\", \"linecolor\": \"white\", \"ticks\": \"\", \"title\": {\"standoff\": 15}, \"zerolinecolor\": \"white\", \"zerolinewidth\": 2}}}},                        {\"responsive\": true}                    ).then(function(){\n                            \nvar gd = document.getElementById('532f3453-4fd7-4421-a4b5-e336239e5755');\nvar x = new MutationObserver(function (mutations, observer) {{\n        var display = window.getComputedStyle(gd).display;\n        if (!display || display === 'none') {{\n            console.log([gd, 'removed!']);\n            Plotly.purge(gd);\n            observer.disconnect();\n        }}\n}});\n\n// Listen for the removal of the full notebook cells\nvar notebookContainer = gd.closest('#notebook-container');\nif (notebookContainer) {{\n    x.observe(notebookContainer, {childList: true});\n}}\n\n// Listen for the clearing of the current output cell\nvar outputEl = gd.closest('.output');\nif (outputEl) {{\n    x.observe(outputEl, {childList: true});\n}}\n\n                        })                };                });            </script>        </div>"
     },
     "metadata": {},
     "output_type": "display_data"
    }
   ],
   "source": [
    "# Plotting the coordinates space\n",
    "import plotly.express as px\n",
    "from scipy.signal import savgol_filter\n",
    "from statsmodels.tsa.holtwinters import SimpleExpSmoothing, ExponentialSmoothing\n",
    "\n",
    "fig = px.scatter_3d(df_neuro_coor, x='scaled_x', y='scaled_y', z='scaled_z')\n",
    "fig.update_traces(marker={'size': 3})\n",
    "fig.add_scatter3d(x=df_vascu_coor['scaled_x'], y=df_vascu_coor['scaled_y'], z=df_vascu_coor['scaled_z'], mode='markers',  marker={'size': 3}, name='blood-vessels')\n",
    "fig.show()\n",
    "\n"
   ],
   "metadata": {
    "collapsed": false,
    "pycharm": {
     "name": "#%%\n"
    }
   }
  },
  {
   "cell_type": "code",
   "execution_count": 12,
   "id": "12955aa5",
   "metadata": {},
   "outputs": [],
   "source": []
  }
 ],
 "metadata": {
  "kernelspec": {
   "display_name": "Python 3 (ipykernel)",
   "language": "python",
   "name": "python3"
  },
  "language_info": {
   "codemirror_mode": {
    "name": "ipython",
    "version": 3
   },
   "file_extension": ".py",
   "mimetype": "text/x-python",
   "name": "python",
   "nbconvert_exporter": "python",
   "pygments_lexer": "ipython3",
   "version": "3.9.2"
  }
 },
 "nbformat": 4,
 "nbformat_minor": 5
}